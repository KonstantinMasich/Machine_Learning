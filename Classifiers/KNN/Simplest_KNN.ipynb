{
 "cells": [
  {
   "cell_type": "markdown",
   "metadata": {
    "collapsed": true
   },
   "source": [
    "# KNN: the simplest variation\n",
    "<div class = \"alert alert-block alert-info\">Note: here a little inheritance trick is used in order to document KNN class.</div><br>\n",
    "\n",
    "## Overall\n",
    "This is a K-nearest-neighbors classifier is one of the simplest **non-parametric** classifiers (number of model's parameters grow with the amount of training data). Non-parametric models are more flexible (because they make less/no assumptions about the nature of given data), but often computationally intractable for large datasets.\n",
    "KNN counts how many members of each class are in this set, and returns that empirical fraction as the estimate. More formally,\n",
    "![](img/f1.png)\n",
    "where $N_K(\\mathbf{x}, \\mathcal{D})$ are the (indices of the) K nearest points to $\\mathbf{x}$ in $\\mathcal{D}$ and $\\mathbb{I}(e)$ is an indicator function defined as follows:\n",
    "![](img/f2.png)\n",
    "This method is an example of **memory-based learning** or **instance-based learning**, which basically means that the algorithm does not really learn but rather *memorizes* training instances and compares new problem to them (instead of performing explicit generalization, compares new problem instances with instances seen in training, which have been stored in memory).\n",
    "\n",
    "## Algorithm\n",
    "Let's implement the simples KNN algorithm with Euclidian distance metrics."
   ]
  },
  {
   "cell_type": "code",
   "execution_count": 1,
   "metadata": {
    "collapsed": true
   },
   "outputs": [],
   "source": [
    "# NumPy\n",
    "import numpy as np\n",
    "\n",
    "# Plotting\n",
    "from matplotlib import pyplot as plt\n",
    "import time\n",
    "import pylab as pl\n",
    "from IPython import display\n",
    "%matplotlib inline\n",
    "\n",
    "# For inheritence purposes\n",
    "from abc import ABCMeta, abstractmethod\n",
    "\n",
    "# Randomizing\n",
    "from random import randint, choice\n",
    "\n",
    "from operator import itemgetter"
   ]
  },
  {
   "cell_type": "markdown",
   "metadata": {},
   "source": [
    "Firs of all we create a method to initiate our KNN class. It will only get a number of neighbors to look at."
   ]
  },
  {
   "cell_type": "code",
   "execution_count": 2,
   "metadata": {
    "collapsed": true
   },
   "outputs": [],
   "source": [
    "class KNN:\n",
    "    @abstractmethod\n",
    "    def __init__(self, n_neighbors=5):\n",
    "        self.X = None\n",
    "        self.y = None\n",
    "        self.K = n_neighbors"
   ]
  },
  {
   "cell_type": "markdown",
   "metadata": {},
   "source": [
    "Now we define the function to fit our model to training set - the fit() function. Actually in this case there is no \"fitting\" per se, it just memorizes X and y, that is all. "
   ]
  },
  {
   "cell_type": "code",
   "execution_count": 3,
   "metadata": {
    "collapsed": true
   },
   "outputs": [],
   "source": [
    "class KNN(KNN):\n",
    "    @abstractmethod\n",
    "    def fit(self, X_train, y_train):\n",
    "        self.X = np.array(X_train)\n",
    "        self.y = np.array(y_train)"
   ]
  },
  {
   "cell_type": "markdown",
   "metadata": {},
   "source": [
    "Let us now define a predicting method.<br><br>\n",
    "**Important: tie breaking.**<br>\n",
    "When observation $\\mathbf{x}$ has 2 or more \"most frequent\" classes (for example, out of its 6 nearest neighbors, 3 belong to class $A$ and 3 others belong to class $B$) it's a tie. In this case it is resolved somewhat randomly, because in our case we use set function to count most common elements and it depends on how set will work.<br>\n",
    "In general the way how you break a tie depends on your data and client requirements. You can assign all ties to some class $Z$, or get the first most common frequent met, etc."
   ]
  },
  {
   "cell_type": "code",
   "execution_count": 4,
   "metadata": {
    "collapsed": true
   },
   "outputs": [],
   "source": [
    "class KNN(KNN):\n",
    "    @abstractmethod\n",
    "    def predict(self, usr_X):\n",
    "        # 0. Do we have matrix X as an input, or just single vector x?\n",
    "        if np.array(usr_X).ndim == 1: # vector\n",
    "            X = np.array([usr_X[:]])\n",
    "        else:                         # matrix\n",
    "            X = np.array(usr_X[:])\n",
    "        res = []\n",
    "        # Loop through each point in X (or once if provided vector x)\n",
    "        for x in X:\n",
    "            # 1. First of all we create a dictionary of indices and distances, where\n",
    "            #    for each observation at X (or for vector x):\n",
    "            #    {0: d_0} - meaning distance between x and self.X[0] is d_0\n",
    "            #    {1: d_1} - meaning distance between x and self.X[1] is d_1\n",
    "            #    {2: d_2} - meaning distance between x and self.X[2] is d_2\n",
    "            #    etc.\n",
    "            distances = []\n",
    "            for observation in self.X:\n",
    "                distances.append(np.linalg.norm(observation - x))\n",
    "            dist_dictionary = dict(enumerate(distances))\n",
    "            # 2. Sort distances and get K nearest neighbors EXCEPT for dist=0.0 of course:\n",
    "            dist_tuples = sorted(dist_dictionary.items(), key=itemgetter(1))[1:self.K + 1]\n",
    "            # Now it's list of K tuples like [(4, 2.17),(2, 12.5),(18, 34.5)] showing\n",
    "            # indices of K closest neighbors and distances to those neighbors.\n",
    "            # 3. Find out the most common class within those K nearest neighbors:\n",
    "            y_s = list(map(lambda index: self.y[index], [elem[0] for elem in dist_tuples]))\n",
    "            # y_s is a list that holds K most common classes, like [0, 3, 0]\n",
    "            res.append(max(set(y_s), key=y_s.count))\n",
    "        return res"
   ]
  },
  {
   "cell_type": "markdown",
   "metadata": {},
   "source": [
    "And a simple scoring method:"
   ]
  },
  {
   "cell_type": "code",
   "execution_count": 5,
   "metadata": {
    "collapsed": true
   },
   "outputs": [],
   "source": [
    "class KNN(KNN):\n",
    "    @abstractmethod\n",
    "    def score(self, X_test, y_test):\n",
    "        # 1. Get a prediction:\n",
    "        y_pred = self.predict(X_test)\n",
    "        # 2. Compare results:\n",
    "        match_counter = 0\n",
    "        for y_pred_i, y_i in zip(y_pred, y_test):\n",
    "            if y_pred_i == y_i:\n",
    "                match_counter += 1\n",
    "        return match_counter / len(y_test)"
   ]
  },
  {
   "cell_type": "markdown",
   "metadata": {},
   "source": [
    "## Testing\n",
    "Imports for testing purposes:"
   ]
  },
  {
   "cell_type": "code",
   "execution_count": 6,
   "metadata": {
    "collapsed": true
   },
   "outputs": [],
   "source": [
    "from sklearn.model_selection import train_test_split"
   ]
  },
  {
   "cell_type": "markdown",
   "metadata": {},
   "source": [
    "### Predefined data\n",
    "For starters we will create simple predefined data with 8 points and 3 classes."
   ]
  },
  {
   "cell_type": "code",
   "execution_count": 7,
   "metadata": {
    "scrolled": false
   },
   "outputs": [
    {
     "data": {
      "image/png": "[encoded data removed]",
      "text/plain": [
       "<matplotlib.figure.Figure at 0x7fa734de76d8>"
      ]
     },
     "metadata": {},
     "output_type": "display_data"
    }
   ],
   "source": [
    "# Predefined data\n",
    "X = [[1, 1], [1, 2], [2, 1], [4, 4], [4.5, 4.5], [6.5, 1], [6.2, 2.3], [6, 2]]\n",
    "y = [0, 0, 0, 1, 1, 2, 2, 2]\n",
    "xs = np.array([point[0] for point in X])\n",
    "ys = np.array([point[1] for point in X])\n",
    "classes = np.array(y)\n",
    "colormap = np.array(['r', 'k', 'g'])\n",
    "plt.scatter(xs, ys, c=colormap[classes], s=40)\n",
    "plt.title('Predefined data')\n",
    "plt.show()"
   ]
  },
  {
   "cell_type": "code",
   "execution_count": 8,
   "metadata": {
    "scrolled": false
   },
   "outputs": [
    {
     "name": "stdout",
     "output_type": "stream",
     "text": [
      "K = 2\n",
      "Predictions: [0, 0, 0, 1, 1, 2, 2, 2]\n",
      "   Actual y: [0, 0, 0, 1, 1, 2, 2, 2]\n",
      "      Score: 1.0\n",
      "K = 3\n",
      "Predictions: [0, 0, 0, 2, 2, 2, 2, 2]\n",
      "   Actual y: [0, 0, 0, 1, 1, 2, 2, 2]\n",
      "      Score: 0.75\n"
     ]
    }
   ],
   "source": [
    "knn = KNN(n_neighbors=2)\n",
    "knn.fit(X, y)\n",
    "print(\"K = 2\\nPredictions:\", knn.predict(X))\n",
    "print(\"   Actual y:\", y)\n",
    "print(\"      Score:\", knn.score(X, y))\n",
    "knn = KNN(n_neighbors=3)\n",
    "knn.fit(X, y)\n",
    "print(\"K = 3\\nPredictions:\", knn.predict(X))\n",
    "print(\"   Actual y:\", y)\n",
    "print(\"      Score:\", knn.score(X, y))"
   ]
  },
  {
   "cell_type": "markdown",
   "metadata": {},
   "source": [
    "### Unknown data\n",
    "Now we will create some random data points and 4 different classes and run our KNN and scikit-learn KNN on it:"
   ]
  },
  {
   "cell_type": "code",
   "execution_count": 9,
   "metadata": {},
   "outputs": [
    {
     "data": {
      "image/png": "[encoded data removed]",
      "text/plain": [
       "<matplotlib.figure.Figure at 0x7fa734df0dd8>"
      ]
     },
     "metadata": {},
     "output_type": "display_data"
    }
   ],
   "source": [
    "# Get some random points belonging to 3 different classes\n",
    "X = []\n",
    "y = []\n",
    "all_classes = [0, 1, 2, 3]\n",
    "for i in range(0, 60):\n",
    "    X.append([randint(0, 20), randint(0, 20)])\n",
    "    y.append(choice(all_classes))\n",
    "xs = np.array([point[0] for point in X])\n",
    "ys = np.array([point[1] for point in X])\n",
    "classes = np.array(y)\n",
    "colormap = np.array(['r', 'k', 'g', 'b'])\n",
    "plt.scatter(xs, ys, c=colormap[classes], s=40)\n",
    "plt.show()\n",
    "\n",
    "# Split X, y into train and test sets\n",
    "X_train, X_test, y_train, y_test = train_test_split(X, y, train_size=45, test_size=15)"
   ]
  },
  {
   "cell_type": "code",
   "execution_count": 10,
   "metadata": {
    "scrolled": false
   },
   "outputs": [
    {
     "name": "stdout",
     "output_type": "stream",
     "text": [
      "K = 3\n",
      "Score: 0.2\n",
      "K = 4\n",
      "Score: 0.3333333333333333\n",
      "K = 4\n",
      "Score: 0.2\n"
     ]
    }
   ],
   "source": [
    "knn = KNN(n_neighbors=3)\n",
    "knn.fit(X_train, y_train)\n",
    "print(\"K = 3\\nScore:\", knn.score(X_test, y_test))\n",
    "knn = KNN(n_neighbors=4)\n",
    "knn.fit(X_train, y_train)\n",
    "print(\"K = 4\\nScore:\", knn.score(X_test, y_test))\n",
    "knn = KNN(n_neighbors=5)\n",
    "knn.fit(X_train, y_train)\n",
    "print(\"K = 4\\nScore:\", knn.score(X_test, y_test))"
   ]
  },
  {
   "cell_type": "code",
   "execution_count": null,
   "metadata": {
    "collapsed": true
   },
   "outputs": [],
   "source": []
  },
  {
   "cell_type": "code",
   "execution_count": null,
   "metadata": {
    "collapsed": true
   },
   "outputs": [],
   "source": []
  },
  {
   "cell_type": "code",
   "execution_count": null,
   "metadata": {
    "collapsed": true
   },
   "outputs": [],
   "source": []
  },
  {
   "cell_type": "code",
   "execution_count": null,
   "metadata": {
    "collapsed": true
   },
   "outputs": [],
   "source": []
  },
  {
   "cell_type": "code",
   "execution_count": null,
   "metadata": {
    "collapsed": true
   },
   "outputs": [],
   "source": []
  },
  {
   "cell_type": "markdown",
   "metadata": {},
   "source": [
    "## Appendix\n",
    "Code for short KNN class."
   ]
  },
  {
   "cell_type": "code",
   "execution_count": 11,
   "metadata": {
    "collapsed": true
   },
   "outputs": [],
   "source": [
    "import numpy as np\n",
    "from operator import itemgetter\n",
    "\n",
    "\n",
    "class KNN:\n",
    "    def __init__(self, n_neighbors=5):\n",
    "        self.X = None\n",
    "        self.y = None\n",
    "        self.K = n_neighbors\n",
    "\n",
    "    def fit(self, X_train, y_train):\n",
    "        self.X = X_train\n",
    "        self.y = y_train\n",
    "\n",
    "    def predict(self, usr_X):\n",
    "        # 0. Do we have matrix X as an input, or just single vector x?\n",
    "        if np.array(usr_X).ndim == 1: # vector\n",
    "            X = np.array([usr_X[:]])\n",
    "        else:                         # matrix\n",
    "            X = np.array(usr_X[:])\n",
    "        res = []\n",
    "        # Loop through each point in X (or once if provided vector x)\n",
    "        for x in X:\n",
    "            # 1. First of all we create a dictionary of indices and distances, where\n",
    "            #    for each observation at X (or for vector x):\n",
    "            #    {0: d_0} - meaning distance between x and self.X[0] is d_0\n",
    "            #    {1: d_1} - meaning distance between x and self.X[1] is d_1\n",
    "            #    {2: d_2} - meaning distance between x and self.X[2] is d_2\n",
    "            #    etc.\n",
    "            distances = []\n",
    "            for observation in self.X:\n",
    "                distances.append(np.linalg.norm(observation - x))\n",
    "            dist_dictionary = dict(enumerate(distances))\n",
    "            # 2. Sort distances and get K nearest neighbors EXCEPT for dist=0.0 of course:\n",
    "            dist_tuples = sorted(dist_dictionary.items(), key=itemgetter(1))[1:self.K + 1]\n",
    "            # Now it's list of K tuples like [(4, 2.17),(2, 12.5),(18, 34.5)] showing\n",
    "            # indices of K closest neighbors and distances to those neighbors.\n",
    "            # 3. Find out the most common class within those K nearest neighbors:\n",
    "            y_s = list(map(lambda index: self.y[index], [elem[0] for elem in dist_tuples]))\n",
    "            # y_s is a list that holds K most common classes, like [0, 3, 0]\n",
    "            res.append(max(set(y_s), key=y_s.count))\n",
    "        return res\n",
    "\n",
    "    def score(self, X_test, y_test):\n",
    "        # 1. Get a prediction:\n",
    "        y_pred = self.predict(X_test)\n",
    "        # 2. Compare results:\n",
    "        match_counter = 0\n",
    "        for y_pred_i, y_i in zip(y_pred, y_test):\n",
    "            if y_pred_i == y_i:\n",
    "                match_counter += 1\n",
    "        return match_counter / len(y_test)"
   ]
  },
  {
   "cell_type": "markdown",
   "metadata": {},
   "source": [
    "## Resources:\n",
    "Machine learning : a probabilistic perspective / Kevin P. Murphy.<br>\n",
    "ISBN 978-0-262-01802-9 (hardcover : alk. paper)<br>\n",
    "Q325.5.M87 2012<br>\n",
    "006.3’1—dc23<br>\n",
    "2012004558"
   ]
  }
 ],
 "metadata": {
  "kernelspec": {
   "display_name": "Python 3",
   "language": "python",
   "name": "python3"
  },
  "language_info": {
   "codemirror_mode": {
    "name": "ipython",
    "version": 3
   },
   "file_extension": ".py",
   "mimetype": "text/x-python",
   "name": "python",
   "nbconvert_exporter": "python",
   "pygments_lexer": "ipython3",
   "version": "3.6.3"
  }
 },
 "nbformat": 4,
 "nbformat_minor": 1
}
