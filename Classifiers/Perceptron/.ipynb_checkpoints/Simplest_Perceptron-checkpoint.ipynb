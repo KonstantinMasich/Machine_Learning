{
 "cells": [
  {
   "cell_type": "markdown",
   "metadata": {},
   "source": [
    "# Perceptron: the simplest variation\n",
    "<div class = \"alert alert-block alert-info\">Note: here a little inheritance trick is used in order to document Perceptron class.</div><br>\n",
    "## About\n",
    "This is just a simple implementation of PLA as seen on Caltech Machine Learning lecture 1 by Professor Yaser Abu-Mostafa<br>\n",
    "https://www.youtube.com/watch?v=mbyG85GZ0PI&t=1288s"
   ]
  },
  {
   "cell_type": "code",
   "execution_count": 1,
   "metadata": {},
   "outputs": [
    {
     "data": {
      "image/jpeg": "[encoded data removed]",
      "text/html": [
       "\n",
       "        <iframe\n",
       "            width=\"400\"\n",
       "            height=\"300\"\n",
       "            src=\"https://www.youtube.com/embed/mbyG85GZ0PI\"\n",
       "            frameborder=\"0\"\n",
       "            allowfullscreen\n",
       "        ></iframe>\n",
       "        "
      ],
      "text/plain": [
       "<IPython.lib.display.YouTubeVideo at 0x7f4ebc38f518>"
      ]
     },
     "execution_count": 1,
     "metadata": {},
     "output_type": "execute_result"
    }
   ],
   "source": [
    "from IPython.display import YouTubeVideo\n",
    "from datetime import timedelta\n",
    "start=int(timedelta(hours=0, minutes=23, seconds=25).total_seconds())\n",
    "YouTubeVideo(\"mbyG85GZ0PI\", start=start, autoplay=1, theme=\"light\", color=\"red\")\n",
    "YouTubeVideo(\"mbyG85GZ0PI\")"
   ]
  },
  {
   "cell_type": "markdown",
   "metadata": {},
   "source": [
    "This is a very simple model that solves a binary classification problem. We have 2 classes, -1 and 1, and a set of $k$-dimensional data points.\n",
    "\n",
    "## Input\n",
    "Input is a training set, which is labeled set of input-output pairs $\\mathcal{D} = \\{(x_i,y_i)\\}_{i=1}^N$, where $N$ is the number of training examples and $\\mathcal{D}$ is called a **training set**. This is the simplest setting, so:\n",
    "- Each training input $x_i$ is a $k$-dimensional vector of features. Values of $x_i$ must be numeric (real or integer - no matter).\n",
    "- Response is a $N$-dimensional vector where each $y_i\\in\\{1...C\\}$. In our case, $y_i\\in\\{-1, 1\\}$ which indicates that each $x_i$ is mapped to one of 2 classes.\n",
    "\n",
    "## Algorithm\n",
    "As shown in the picture above, we add a \"special feature\" to every $x_i$ - it is a constant $x_{i0}=1$ and add a special weight $w_0$ to weight vector (which is called bias, intercept, etc.) which allows us to write hypothesis (predicted value) as $h(\\mathbf{x})=sign(\\sum_{i=0}^k w_i x_i)$ for each vector $\\mathbf{x}$.\n",
    "![PictureHere](img/formula1.png)"
   ]
  },
  {
   "cell_type": "code",
   "execution_count": 2,
   "metadata": {
    "collapsed": true
   },
   "outputs": [],
   "source": [
    "# NumPy\n",
    "import numpy as np\n",
    "\n",
    "# Plotting\n",
    "from matplotlib import pyplot as plt\n",
    "%matplotlib inline\n",
    "\n",
    "# Randomizing\n",
    "from random import randint\n",
    "\n",
    "# Comparing with scikit-learn perceptron model\n",
    "import sklearn.linear_model\n",
    "\n",
    "# Train and test sets\n",
    "from sklearn.model_selection import train_test_split"
   ]
  },
  {
   "cell_type": "markdown",
   "metadata": {},
   "source": [
    "Firs of all we create a method to initiate our Perceptron class. It will get maximum number of iterations and a 'verbose' parameter."
   ]
  },
  {
   "cell_type": "code",
   "execution_count": 3,
   "metadata": {},
   "outputs": [],
   "source": [
    "from abc import ABCMeta, abstractmethod\n",
    "\n",
    "class Perceptron():\n",
    "    @abstractmethod\n",
    "    def __init__(self, n_iter=100, verbose=False):\n",
    "        self.n_iter = n_iter\n",
    "        self.X = np.empty(shape=1)\n",
    "        self.y = np.empty(shape=1)\n",
    "        self.coef_ = np.empty(shape=1)\n",
    "        self.intercept_ = 0\n",
    "        self.verbose = verbose"
   ]
  },
  {
   "cell_type": "markdown",
   "metadata": {},
   "source": [
    "Now we define the function to fit our model to training set - the **fit()** function."
   ]
  },
  {
   "cell_type": "code",
   "execution_count": 4,
   "metadata": {
    "collapsed": true
   },
   "outputs": [],
   "source": [
    "class Perceptron(Perceptron):\n",
    "    \n",
    "    @abstractmethod\n",
    "    def fit(self, X_train, y_train):\n",
    "        self.X = np.array(X_train)\n",
    "        self.y = np.array(y_train)\n",
    "        # 1. Pick random weights and add w0 (intercept) to weights:\n",
    "        self.coef_ = np.random.randn(len(self.X[0]) + 1)\n",
    "        # 2. Add constant x0=1 to all rows in X:\n",
    "        self.X = np.insert(self.X, 0, 1, axis=1)\n",
    "        # 3. Iterate for n_iter times or until convergence:\n",
    "        iter_no = 0\n",
    "        while iter_no < self.n_iter:\n",
    "            # Perform w(T)X to get predictions vector:\n",
    "            y_pred = np.sign(np.dot(self.X, self.coef_))\n",
    "            # On predictions vector, pick a misclassified point:\n",
    "            converged = True\n",
    "            for y_hat_i, y_i, x_i in zip(y_pred, self.y, self.X):\n",
    "                if y_hat_i != y_i:\n",
    "                    # Correct weight for that point and break the loop:\n",
    "                    converged = False\n",
    "                    self.coef_ = self.coef_ + np.dot(x_i, y_i)\n",
    "                    break\n",
    "            # If no misclassified points found - STOP (convergence detected):\n",
    "            if converged:\n",
    "                if self.verbose:\n",
    "                    print(\"Fitting: converged within\", iter_no+1, \"steps.\")\n",
    "                break\n",
    "            # Iterate further:iter_no\n",
    "            iter_no += 1\n",
    "        self.intercept_ = self.coef_[0]"
   ]
  },
  {
   "cell_type": "markdown",
   "metadata": {},
   "source": [
    "Let us now define a predicting method:"
   ]
  },
  {
   "cell_type": "code",
   "execution_count": 6,
   "metadata": {
    "collapsed": true
   },
   "outputs": [],
   "source": [
    "class Perceptron(Perceptron):\n",
    "    \n",
    "    @abstractmethod\n",
    "    def predict(self, X):\n",
    "        self.X = np.array(X)\n",
    "        self.X = np.insert(self.X, 0, 1, axis=1)\n",
    "        res = np.sign(np.dot(self.X, self.coef_))\n",
    "        return res.astype(int)"
   ]
  },
  {
   "cell_type": "markdown",
   "metadata": {},
   "source": [
    "And a very simple scoring method:"
   ]
  },
  {
   "cell_type": "code",
   "execution_count": 9,
   "metadata": {
    "collapsed": true
   },
   "outputs": [],
   "source": [
    "class Perceptron(Perceptron):\n",
    "    \n",
    "    @abstractmethod\n",
    "    def score(self, X_test, y_test):\n",
    "        # 1. Get a prediction:\n",
    "        y_pred = self.predict(X_test)\n",
    "        # 2. Compare results:\n",
    "        match_counter = 0\n",
    "        for y_pred_i, y_i in zip(y_pred, y_test):\n",
    "            if y_pred_i == y_i:\n",
    "                match_counter += 1\n",
    "        return match_counter / len(y_test)"
   ]
  },
  {
   "cell_type": "markdown",
   "metadata": {},
   "source": [
    "<br><br>\n",
    "## Testing\n",
    "\n",
    "Now we can check our Perceptron class on a simple data. Let's say we have some dataset which is lineary separable (one of possible ways to separate 2 classes is via $y=x-2$):"
   ]
  },
  {
   "cell_type": "code",
   "execution_count": 61,
   "metadata": {
    "scrolled": false
   },
   "outputs": [
    {
     "name": "stdout",
     "output_type": "stream",
     "text": [
      "Fitting: converged within 19 steps.\n",
      "This Perceptron score = 1.0\n",
      "Weights are: [ 14.6744428   -6.24552633   6.1252863 ] (w0 is intercept)\n",
      "SK-learn Perceptron score = 1.0\n",
      "Weights are: [[-8.  8.]] ; intercept = [ 13.]\n"
     ]
    },
    {
     "data": {
      "image/png": "[encoded data removed]",
      "text/plain": [
       "<matplotlib.figure.Figure at 0x7fe90f12f9e8>"
      ]
     },
     "metadata": {},
     "output_type": "display_data"
    }
   ],
   "source": [
    "# 1. Creating dataset: X and y\n",
    "X = []\n",
    "y = []\n",
    "for i in range(0, 60):\n",
    "    X.append([randint(-10, 10), randint(-10, 10)])\n",
    "\n",
    "# Case of y = x - 2\n",
    "line_x = np.linspace(-10, 10, 50)\n",
    "plt.plot(line_x, line_x-2, 'c-')\n",
    "for index, point in enumerate(X):\n",
    "    if point[1] > point[0] - 2:\n",
    "        plt.plot(point[0], point[1], 'ro')\n",
    "        y.append(1)\n",
    "    elif point[1] < point[0] - 2:\n",
    "        plt.plot(point[0], point[1], 'bo')\n",
    "        y.append(-1)\n",
    "    else:\n",
    "        X[index][1] += 1\n",
    "        plt.plot(point[0], point[1], 'ro')\n",
    "        y.append(1)\n",
    "plt.title(\"Lineary separable classes and y=x-2\")\n",
    "\n",
    "\n",
    "# Train-test sets\n",
    "X_train, X_test, y_train, y_test = train_test_split(X, y, train_size=45, test_size=15)\n",
    "\n",
    "# Prediction: this Perceptron\n",
    "p = Perceptron(verbose=True)\n",
    "p.fit(X_train, y_train)\n",
    "print(\"This Perceptron score =\", p.score(X_test, y_test))\n",
    "print(\"Weights are:\", p.coef_, \"(w0 is intercept)\")\n",
    "\n",
    "# Prediction: scikit-learn Perceptron\n",
    "sk_p = sklearn.linear_model.Perceptron(max_iter=100)\n",
    "sk_p.fit(X_train, y_train)\n",
    "print(\"SK-learn Perceptron score =\", sk_p.score(X_test, y_test))\n",
    "print(\"Weights are:\", sk_p.coef_, \"; intercept =\", sk_p.intercept_)\n",
    "\n",
    "plt.plot(line_x, p.coef_[0]*(x-p.coef_[1])+p.coef_[2], 'y-')\n",
    "plt.plot(line_x, sk_p.intercept_*(x-sk_p.coef_[0][0])+sk_p.coef_[0][1], 'g--')\n",
    "plt.show()"
   ]
  },
  {
   "cell_type": "code",
   "execution_count": 67,
   "metadata": {
    "scrolled": false
   },
   "outputs": [
    {
     "name": "stderr",
     "output_type": "stream",
     "text": [
      "/home/konstantin/anaconda3/lib/python3.6/site-packages/sklearn/linear_model/stochastic_gradient.py:117: DeprecationWarning: n_iter parameter is deprecated in 0.19 and will be removed in 0.21. Use max_iter and tol instead.\n",
      "  DeprecationWarning)\n"
     ]
    },
    {
     "data": {
      "text/plain": [
       "Text(0.5,1,'Perceptron')"
      ]
     },
     "execution_count": 67,
     "metadata": {},
     "output_type": "execute_result"
    },
    {
     "data": {
      "image/png": "[encoded data removed]",
      "text/plain": [
       "<matplotlib.figure.Figure at 0x7fe90f592dd8>"
      ]
     },
     "metadata": {},
     "output_type": "display_data"
    }
   ],
   "source": [
    "import numpy as np\n",
    "from sklearn.linear_model import Perceptron\n",
    "import matplotlib.pyplot as plt\n",
    "\n",
    "X = np.array([[2,1],[3,4],[4,2],[3,1]])\n",
    "Y = np.array([0,0,1,1])\n",
    "h = .02  # step size in the mesh\n",
    "\n",
    "\n",
    "# we create an instance of SVM and fit our data. We do not scale our\n",
    "# data since we want to plot the support vectors\n",
    "\n",
    "clf = sklearn.linear_model.Perceptron(n_iter=100).fit(X, Y)\n",
    "\n",
    "# create a mesh to plot in\n",
    "x_min, x_max = X[:, 0].min() - 1, X[:, 0].max() + 1\n",
    "y_min, y_max = X[:, 1].min() - 1, X[:, 1].max() + 1\n",
    "xx, yy = np.meshgrid(np.arange(x_min, x_max, h),\n",
    "                     np.arange(y_min, y_max, h))\n",
    "\n",
    "# Plot the decision boundary. For that, we will assign a color to each\n",
    "# point in the mesh [x_min, m_max]x[y_min, y_max].\n",
    "fig, ax = plt.subplots()\n",
    "Z = clf.predict(np.c_[xx.ravel(), yy.ravel()])\n",
    "\n",
    "# Put the result into a color plot\n",
    "Z = Z.reshape(xx.shape)\n",
    "ax.contourf(xx, yy, Z, cmap=plt.cm.Paired)\n",
    "ax.axis('off')\n",
    "\n",
    "# Plot also the training points\n",
    "ax.scatter(X[:, 0], X[:, 1], c=Y, cmap=plt.cm.Paired)\n",
    "\n",
    "ax.set_title('Perceptron')"
   ]
  },
  {
   "cell_type": "code",
   "execution_count": 69,
   "metadata": {
    "scrolled": true
   },
   "outputs": [
    {
     "data": {
      "text/plain": [
       "<matplotlib.collections.PathCollection at 0x7fe90f70a668>"
      ]
     },
     "execution_count": 69,
     "metadata": {},
     "output_type": "execute_result"
    },
    {
     "data": {
      "image/png": "[encoded data removed]",
      "text/plain": [
       "<matplotlib.figure.Figure at 0x7fe90f6e1128>"
      ]
     },
     "metadata": {},
     "output_type": "display_data"
    }
   ],
   "source": [
    "# Data\n",
    "d = np.array([\n",
    "[2, 1, 2, 5, 7, 2, 3, 6, 1, 2, 5, 4, 6, 5],\n",
    "[2, 3, 3, 3, 3, 4, 4, 4, 5, 5, 5, 6, 6, 7]\n",
    "])\n",
    " \n",
    "# Labels\n",
    "t = np.array([0, 0, 0, 1, 1, 0, 0, 1, 0, 0, 1, 1, 1, 1])\n",
    "\n",
    "colormap = np.array(['r', 'k'])\n",
    "plt.scatter(d[0], d[1], c=colormap[t], s=40)"
   ]
  },
  {
   "cell_type": "code",
   "execution_count": 80,
   "metadata": {},
   "outputs": [
    {
     "name": "stdout",
     "output_type": "stream",
     "text": [
      "Prediction [1 0 1 1 1 0 1 1 0 0 1 1 1 1]\n",
      "Actual     [0 0 0 1 1 0 0 1 0 0 1 1 1 1]\n",
      "Accuracy   78.5714285714%\n"
     ]
    },
    {
     "name": "stderr",
     "output_type": "stream",
     "text": [
      "/home/konstantin/anaconda3/lib/python3.6/site-packages/sklearn/linear_model/stochastic_gradient.py:117: DeprecationWarning: n_iter parameter is deprecated in 0.19 and will be removed in 0.21. Use max_iter and tol instead.\n",
      "  DeprecationWarning)\n",
      "/home/konstantin/anaconda3/lib/python3.6/site-packages/sklearn/linear_model/stochastic_gradient.py:128: FutureWarning: max_iter and tol parameters have been added in <class 'sklearn.linear_model.perceptron.Perceptron'> in 0.19. If both are left unset, they default to max_iter=5 and tol=None. If tol is not None, max_iter defaults to max_iter=1000. From 0.21, default max_iter will be 1000, and default tol will be 1e-3.\n",
      "  \"and default tol will be 1e-3.\" % type(self), FutureWarning)\n"
     ]
    }
   ],
   "source": [
    "# rotate the data 180 degrees\n",
    "d90 = np.rot90(d)\n",
    "d90 = np.rot90(d90)\n",
    "d90 = np.rot90(d90)\n",
    " \n",
    "# Create the model\n",
    "net = sklearn.linear_model.Perceptron(n_iter=100, verbose=0, random_state=None, fit_intercept=True, eta0=0.002)\n",
    "net.fit(d90,t)\n",
    "\n",
    "net2 = Perceptron()\n",
    "net2.fit(d90, t)\n",
    " \n",
    "# Print the results\n",
    "print (\"Prediction \" + str(net2.predict(d90)))\n",
    "print (\"Actual     \" + str(t))\n",
    "print (\"Accuracy   \" + str(net2.score(d90, t)*100) + \"%\")"
   ]
  },
  {
   "cell_type": "code",
   "execution_count": 82,
   "metadata": {},
   "outputs": [
    {
     "name": "stdout",
     "output_type": "stream",
     "text": [
      "[[ -5.  12.]]\n"
     ]
    },
    {
     "ename": "IndexError",
     "evalue": "index 1 is out of bounds for axis 0 with size 1",
     "output_type": "error",
     "traceback": [
      "\u001b[0;31m---------------------------------------------------------------------------\u001b[0m",
      "\u001b[0;31mIndexError\u001b[0m                                Traceback (most recent call last)",
      "\u001b[0;32m<ipython-input-82-c74a1d16bbdf>\u001b[0m in \u001b[0;36m<module>\u001b[0;34m()\u001b[0m\n\u001b[1;32m      3\u001b[0m \u001b[0mprint\u001b[0m\u001b[0;34m(\u001b[0m\u001b[0mnet2\u001b[0m\u001b[0;34m.\u001b[0m\u001b[0mcoef_\u001b[0m\u001b[0;34m)\u001b[0m\u001b[0;34m\u001b[0m\u001b[0m\n\u001b[1;32m      4\u001b[0m \u001b[0;31m# Output the values\u001b[0m\u001b[0;34m\u001b[0m\u001b[0;34m\u001b[0m\u001b[0m\n\u001b[0;32m----> 5\u001b[0;31m \u001b[0mprint\u001b[0m \u001b[0;34m(\u001b[0m\u001b[0;34m\"Coefficient 0 \"\u001b[0m \u001b[0;34m+\u001b[0m \u001b[0mstr\u001b[0m\u001b[0;34m(\u001b[0m\u001b[0mnet2\u001b[0m\u001b[0;34m.\u001b[0m\u001b[0mcoef_\u001b[0m\u001b[0;34m[\u001b[0m\u001b[0;36m1\u001b[0m\u001b[0;34m]\u001b[0m\u001b[0;34m)\u001b[0m\u001b[0;34m)\u001b[0m\u001b[0;34m\u001b[0m\u001b[0m\n\u001b[0m\u001b[1;32m      6\u001b[0m \u001b[0mprint\u001b[0m \u001b[0;34m(\u001b[0m\u001b[0;34m\"Coefficient 1 \"\u001b[0m \u001b[0;34m+\u001b[0m \u001b[0mstr\u001b[0m\u001b[0;34m(\u001b[0m\u001b[0mnet2\u001b[0m\u001b[0;34m.\u001b[0m\u001b[0mcoef_\u001b[0m\u001b[0;34m[\u001b[0m\u001b[0;36m2\u001b[0m\u001b[0;34m]\u001b[0m\u001b[0;34m)\u001b[0m\u001b[0;34m)\u001b[0m\u001b[0;34m\u001b[0m\u001b[0m\n\u001b[1;32m      7\u001b[0m \u001b[0mprint\u001b[0m \u001b[0;34m(\u001b[0m\u001b[0;34m\"Bias \"\u001b[0m \u001b[0;34m+\u001b[0m \u001b[0mstr\u001b[0m\u001b[0;34m(\u001b[0m\u001b[0mnet2\u001b[0m\u001b[0;34m.\u001b[0m\u001b[0mcoef_\u001b[0m\u001b[0;34m[\u001b[0m\u001b[0;36m0\u001b[0m\u001b[0;34m]\u001b[0m\u001b[0;34m)\u001b[0m\u001b[0;34m)\u001b[0m\u001b[0;34m\u001b[0m\u001b[0m\n",
      "\u001b[0;31mIndexError\u001b[0m: index 1 is out of bounds for axis 0 with size 1"
     ]
    },
    {
     "data": {
      "image/png": "[encoded data removed]",
      "text/plain": [
       "<matplotlib.figure.Figure at 0x7fe90f4f50f0>"
      ]
     },
     "metadata": {},
     "output_type": "display_data"
    }
   ],
   "source": [
    "# Plot the original data\n",
    "plt.scatter(d[0], d[1], c=colormap[t], s=40)\n",
    "print(net2.coef_) \n",
    "# Output the values\n",
    "print (\"Coefficient 0 \" + str(net2.coef_[1]))\n",
    "print (\"Coefficient 1 \" + str(net2.coef_[2]))\n",
    "print (\"Bias \" + str(net2.coef_[0]))\n",
    " \n",
    "# Calc the hyperplane (decision boundary)\n",
    "ymin, ymax = plt.ylim()\n",
    "w = net2.coef_[1]\n",
    "a = -w[0] / w[1]\n",
    "xx = np.linspace(ymin, ymax)\n",
    "yy = a * xx - (net2.coef_[0]) / w[1]\n",
    " \n",
    "# Plot the line\n",
    "plt.plot(yy,xx, 'k-')"
   ]
  },
  {
   "cell_type": "markdown",
   "metadata": {},
   "source": [
    "## Appendix\n",
    "Code for a short Perceptron class."
   ]
  },
  {
   "cell_type": "code",
   "execution_count": 11,
   "metadata": {},
   "outputs": [
    {
     "name": "stdout",
     "output_type": "stream",
     "text": [
      "Fitting: converged within 53 steps.\n",
      "1.0\n",
      "0.933333333333\n"
     ]
    },
    {
     "data": {
      "image/png": "[encoded data removed]",
      "text/plain": [
       "<matplotlib.figure.Figure at 0x7f6e776fc208>"
      ]
     },
     "metadata": {},
     "output_type": "display_data"
    }
   ],
   "source": [
    "import numpy as np\n",
    "from matplotlib import pyplot as plt\n",
    "from random import randint\n",
    "import sklearn.linear_model\n",
    "from sklearn.model_selection import train_test_split\n",
    "\n",
    "\n",
    "class Perceptron:\n",
    "\n",
    "    def __init__(self, n_iter=100, verbose=False):\n",
    "        self.n_iter = n_iter\n",
    "        self.X = np.empty(shape=1)\n",
    "        self.y = np.empty(shape=1)\n",
    "        self.coef_ = np.empty(shape=1)\n",
    "        self.intercept_ = 0\n",
    "        self.verbose = verbose\n",
    "\n",
    "    def fit(self, X_train, y_train):\n",
    "        self.X = np.array(X_train)\n",
    "        self.y = np.array(y_train)\n",
    "        # 1. Pick random weights while adding w0 for intercept:\n",
    "        self.coef_ = np.random.randn(len(self.X[0]) + 1)\n",
    "        # 2. Add x0 as 1 to all rows in X:\n",
    "        self.X = np.insert(self.X, 0, 1, axis=1)\n",
    "\n",
    "        # 3. Iterate for n_iter times:\n",
    "        iter_no = 0\n",
    "        while iter_no < self.n_iter:\n",
    "            # Perform w(T)X to get predictions vector:\n",
    "            y_pred = np.sign(np.dot(self.X, self.coef_))\n",
    "            # 4. On predictions vector, pick a misclassified point:\n",
    "            converged = True\n",
    "            for y_hat_i, y_i, x_i in zip(y_pred, self.y, self.X):\n",
    "                if y_hat_i != y_i:\n",
    "                    # Correct weight for that point and break the loop:\n",
    "                    converged = False\n",
    "                    self.coef_ = self.coef_ + np.dot(x_i, y_i)\n",
    "                    break\n",
    "            # 5. If no misclassified points found - stop:\n",
    "            if converged:\n",
    "                if self.verbose:\n",
    "                    print(\"Fitting: converged within\", iter_no+1, \"steps.\")\n",
    "                break\n",
    "            # 6. Iterate further:iter_no\n",
    "            iter_no += 1\n",
    "        self.intercept_ = self.coef_[0]\n",
    "\n",
    "    def predict(self, X):\n",
    "        self.X = np.array(X)\n",
    "        self.X = np.insert(self.X, 0, 1, axis=1)\n",
    "        res = np.sign(np.dot(self.X, self.coef_))\n",
    "        return res.astype(int)\n",
    "\n",
    "    def score(self, X_test, y_test):\n",
    "        # 1. Get a prediction:\n",
    "        y_pred = self.predict(X_test)\n",
    "        # 2. Compare results:\n",
    "        match_counter = 0\n",
    "        for y_pred_i, y_i in zip(y_pred, y_test):\n",
    "            if y_pred_i == y_i:\n",
    "                match_counter += 1\n",
    "        return match_counter / len(y_test)\n",
    "\n",
    "\n",
    "# 1. Creating dataset: X and y\n",
    "X = []\n",
    "y = []\n",
    "for i in range(0, 60):\n",
    "    X.append([randint(-10, 10), randint(-10, 10)])\n",
    "\n",
    "# Case of y = x - 2\n",
    "line_x = np.linspace(-10, 10, 50)\n",
    "plt.plot(line_x, line_x-2, 'c-')\n",
    "for index, point in enumerate(X):\n",
    "    if point[1] > point[0] - 2:\n",
    "        plt.plot(point[0], point[1], 'ro')\n",
    "        y.append(1)\n",
    "    elif point[1] < point[0] - 2:\n",
    "        plt.plot(point[0], point[1], 'bo')\n",
    "        y.append(-1)\n",
    "    else:\n",
    "        X[index][1] += 1\n",
    "        plt.plot(point[0], point[1], 'ro')\n",
    "        y.append(1)\n",
    "# plt.show()\n",
    "\n",
    "# Train-test sets\n",
    "X_train, X_test, y_train, y_test = train_test_split(X, y, train_size=45, test_size=15)\n",
    "\n",
    "# Prediction\n",
    "p = Perceptron(verbose=True)\n",
    "p.fit(X_train, y_train)\n",
    "print(p.score(X_test, y_test))\n",
    "\n",
    "sk_p = sklearn.linear_model.Perceptron(max_iter=100)\n",
    "sk_p.fit(X_train, y_train)\n",
    "print(sk_p.score(X_test, y_test))"
   ]
  }
 ],
 "metadata": {
  "kernelspec": {
   "display_name": "Python 3",
   "language": "python",
   "name": "python3"
  },
  "language_info": {
   "codemirror_mode": {
    "name": "ipython",
    "version": 3
   },
   "file_extension": ".py",
   "mimetype": "text/x-python",
   "name": "python",
   "nbconvert_exporter": "python",
   "pygments_lexer": "ipython3",
   "version": "3.6.3"
  }
 },
 "nbformat": 4,
 "nbformat_minor": 2
}
