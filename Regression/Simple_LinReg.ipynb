{
 "cells": [
  {
   "cell_type": "markdown",
   "metadata": {},
   "source": [
    "# Linear Regression"
   ]
  },
  {
   "cell_type": "markdown",
   "metadata": {},
   "source": [
    "One of the most widely used models for regression is known as linear regression. This **asserts\n",
    "that the response is a linear function of the inputs**. This can be written as follows:\n",
    "![](img/f1.png)\n",
    "where $\\mathbf{w}^{T}{\\mathbf{x}}$ represents the inner or **scalar product** between the input vector $\\mathsf{x}$ and the model’s weight vector $\\mathsf{w}$ , and $\\epsilon$ is the **residual error** between our linear predictions and the true response.\n",
    "We often assume that $\\epsilon$ has a Gaussian or normal distribution. We denote this by $\\epsilon\\sim\\mathcal{N}(\\mu,\\sigma^2)$ where $\\mu$ is the mean and $\\sigma^2$ is the variance. When we plot this distribution, we get the well-known bell curve (this is Gaussian pdf with mean 0 and variance 1):\n",
    "![A Gaussian pdf with mean 0 and variance 1](img/f2.png)\n",
    "To make the connection between linear regression and Gaussians more explicit, we can rewrite the model in the following form:\n",
    "![](img/f3.png)"
   ]
  },
  {
   "cell_type": "markdown",
   "metadata": {},
   "source": [
    "## Algorithm"
   ]
  },
  {
   "cell_type": "code",
   "execution_count": 27,
   "metadata": {
    "collapsed": true
   },
   "outputs": [],
   "source": [
    "# NumPy\n",
    "import numpy as np\n",
    "\n",
    "# Plotting\n",
    "import time\n",
    "from matplotlib import pyplot as plt\n",
    "from IPython import display\n",
    "%matplotlib inline\n",
    "\n",
    "from abc import ABCMeta, abstractmethod"
   ]
  },
  {
   "cell_type": "markdown",
   "metadata": {},
   "source": [
    "Let's implements the simplest version of Linear Regfression algorithm, based on ordinary list squares method "
   ]
  },
  {
   "cell_type": "code",
   "execution_count": 33,
   "metadata": {},
   "outputs": [],
   "source": [
    "class LinearRegression():\n",
    "        @abstractmethod\n",
    "        def __init__(self):\n",
    "            # Takes no arguments, for now\n",
    "            self.X = None\n",
    "            self.y = None\n",
    "            self.coef_ = None\n",
    "            self.intercept_ = None\n",
    "            pass\n",
    "        \n",
    "        @abstractmethod\n",
    "        def fit(self, X_train, y_train):\n",
    "            self.X = np.array(X_train)\n",
    "            self.y = np.array(y_train)\n",
    "            # One step:\n",
    "            self.coef_ = np.dot(np.linalg.pinv(self.X), self.y)      "
   ]
  },
  {
   "cell_type": "code",
   "execution_count": 41,
   "metadata": {},
   "outputs": [
    {
     "name": "stdout",
     "output_type": "stream",
     "text": [
      "[ 0.34734284 -0.12574883]\n",
      "[ 0.39961271 -0.04130053]\n"
     ]
    }
   ],
   "source": [
    "X = [[1, 1], [1, 2], [2, 1], [4, 4], [4.5, 4.5], [6.5, 1], [6.2, 2.3], [6, 2]]\n",
    "y = [0, 0, 0, 1, 1, 2, 2, 2]\n",
    "\n",
    "lr1 = LinearRegression()\n",
    "lr1.fit(X, y)\n",
    "print(lr1.coef_)\n",
    "\n",
    "import sklearn.linear_model\n",
    "lr2 = sklearn.linear_model.LinearRegression()\n",
    "lr2.fit(X, y)\n",
    "print(lr2.coef_)\n"
   ]
  },
  {
   "cell_type": "code",
   "execution_count": 29,
   "metadata": {},
   "outputs": [
    {
     "name": "stdout",
     "output_type": "stream",
     "text": [
      "[[ 3. -2.]\n",
      " [-1.  1.]]\n"
     ]
    }
   ],
   "source": [
    "# Pseudo-inverse matrix\n",
    "print(np.linalg.pinv(X))"
   ]
  },
  {
   "cell_type": "code",
   "execution_count": null,
   "metadata": {
    "collapsed": true
   },
   "outputs": [],
   "source": []
  }
 ],
 "metadata": {
  "kernelspec": {
   "display_name": "Python 3",
   "language": "python",
   "name": "python3"
  },
  "language_info": {
   "codemirror_mode": {
    "name": "ipython",
    "version": 3
   },
   "file_extension": ".py",
   "mimetype": "text/x-python",
   "name": "python",
   "nbconvert_exporter": "python",
   "pygments_lexer": "ipython3",
   "version": "3.6.3"
  }
 },
 "nbformat": 4,
 "nbformat_minor": 2
}
