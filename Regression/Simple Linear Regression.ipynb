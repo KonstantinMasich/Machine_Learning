{
 "cells": [
  {
   "cell_type": "markdown",
   "metadata": {},
   "source": [
    "# Linear Regression\n",
    "\n",
    "## Table of contents\n",
    "* [Appendix](#Appendix)\n",
    "\n",
    "\n",
    "<a id='Top'></a>\n",
    "One of the most widely used models for regression is known as linear regression. This **asserts\n",
    "that the response is a linear function of the inputs**. This can be written as follows:\n",
    "![](img/f1.png)\n",
    "where $\\mathbf{w}^{T}{\\mathbf{x}}$ represents the inner or **scalar product** between the input vector $\\mathsf{x}$ and the model’s weight vector $\\mathsf{w}$ , and $\\epsilon$ is the **residual error** between our linear predictions and the true response.\n",
    "We often assume that $\\epsilon$ has a Gaussian or normal distribution. We denote this by $\\epsilon\\sim\\mathcal{N}(\\mu,\\sigma^2)$ where $\\mu$ is the mean and $\\sigma^2$ is the variance. When we plot this distribution, we get the well-known bell curve (this is Gaussian pdf with mean 0 and variance 1):\n",
    "![A Gaussian pdf with mean 0 and variance 1](img/f2.png)\n",
    "To make the connection between linear regression and Gaussians more explicit, we can rewrite the model in the following form:\n",
    "![](img/f3.png)\n",
    "\n",
    "## Algorithm"
   ]
  },
  {
   "cell_type": "code",
   "execution_count": 1,
   "metadata": {
    "collapsed": true
   },
   "outputs": [],
   "source": [
    "# NumPy\n",
    "import numpy as np\n",
    "\n",
    "# Plotting\n",
    "import time\n",
    "from matplotlib import pyplot as plt\n",
    "from IPython import display\n",
    "%matplotlib inline\n",
    "\n",
    "from abc import ABCMeta, abstractmethod\n",
    "\n",
    "# For testing\n",
    "from sklearn.datasets.samples_generator import make_blobs\n",
    "from sklearn.metrics import mean_squared_error, r2_score\n",
    "from sklearn.model_selection import train_test_split\n",
    "\n",
    "# Scikit-learn Linear Regression for comparing results\n",
    "import sklearn.linear_model"
   ]
  },
  {
   "cell_type": "markdown",
   "metadata": {},
   "source": [
    "Let's implements the simplest version of Linear Regfression algorithm, based on ordinary least squares method "
   ]
  },
  {
   "cell_type": "code",
   "execution_count": 2,
   "metadata": {
    "collapsed": true
   },
   "outputs": [],
   "source": [
    "class LinearRegression():\n",
    "        @abstractmethod\n",
    "        def __init__(self):\n",
    "            self.X = None\n",
    "            self.init_X = None\n",
    "            self.y = None\n",
    "            self.coef_ = None\n",
    "            self.intercept_ = None\n",
    "            pass\n",
    "        \n",
    "        @abstractmethod\n",
    "        def fit(self, X_train, y_train):\n",
    "            self.init_X = np.array(X_train)\n",
    "            self.X = np.array(X_train)\n",
    "            self.y = np.array(y_train)\n",
    "            # 1. Initialize weights and add w0 (intercept) to weights:\n",
    "            self.coef_ = np.random.randn(len(self.X[0]) + 1)\n",
    "            # 2. Add constant x0=1 to all rows in X:\n",
    "            self.X = np.insert(self.X, 0, [1], axis=1)\n",
    "            # One step:\n",
    "            self.coef_ = np.dot(np.linalg.pinv(self.X), self.y)\n",
    "            self.intercept_ = self.coef_[0]\n",
    "        \n",
    "        @abstractmethod\n",
    "        def predict(self, usr_X):\n",
    "            # 0. Do we have matrix X as an input, or just single vector x?\n",
    "            if np.array(usr_X).ndim == 1: # vector\n",
    "                self.X = np.array([usr_X[:]])\n",
    "            else:                         # matrix\n",
    "                self.X = np.array(usr_X[:])\n",
    "            # 1. Add constant x0=1 to all rows in X:\n",
    "            self.X = np.insert(self.X, 0, [1], axis=1)\n",
    "            # 1. Predict (return dot product):\n",
    "            return np.dot(self.X, self.coef_)\n",
    "\n",
    "        @abstractmethod\n",
    "        def score(self, X_test, y_test, metric='rmse'):\n",
    "            # 1. Get a prediction:\n",
    "            y_pred = self.predict(X_test)\n",
    "            # 2. Calculate score:\n",
    "            if metric == 'rmse':\n",
    "                \"\"\"RMSE\"\"\"\n",
    "                return np.sqrt((np.sum(np.square(y_pred - y_test))) / (len(y_test)))\n",
    "            elif metric == 'r2':\n",
    "                \"R2\"\n",
    "                y = np.array(y_test)\n",
    "                return 1 - np.square(np.linalg.norm(y - y_pred)) / np.square(np.linalg.norm(y - y.mean()))\n",
    "            else:\n",
    "                return None"
   ]
  },
  {
   "cell_type": "code",
   "execution_count": 3,
   "metadata": {
    "scrolled": true
   },
   "outputs": [
    {
     "name": "stdout",
     "output_type": "stream",
     "text": [
      "This Linear regression:\n",
      "\tCoefficients (intercept is the first) [ 0.30504788 -0.12155051 -0.10398831 -0.02560036]\n",
      "\tMy RMSE: 0.123848708789  --- Real RMSE: 0.123848708789\n",
      "\tMy R2: 0.962634113168  --- Real R2: 0.889562780786\n",
      "---------------------------------------- \n",
      "\n",
      "Scikit-learn Linear regression:\n",
      "\tIntercept: 0.305047880538 Coefficients: [-0.12155051 -0.10398831 -0.02560036]\n",
      "\tSK-learn RMSE: 0.123848708789\n",
      "\tSK-learn R2: 0.889562780786\n"
     ]
    }
   ],
   "source": [
    "# Creating random data \n",
    "X, y = make_blobs(n_samples=20, centers=2, n_features=3)\n",
    "X_train, X_test, y_train, y_test = train_test_split(X, y, train_size=0.7, test_size=0.3)\n",
    "\n",
    "# --------------------- Testing this class ------------------------ #\n",
    "print(\"This Linear regression:\")\n",
    "lr1 = LinearRegression()\n",
    "lr1.fit(X_train, y_train)\n",
    "pred1 = lr1.predict(X_test)\n",
    "print(\"\\tCoefficients (intercept is the first)\", lr1.coef_)\n",
    "print(\"\\tMy RMSE:\", lr1.score(X_test, y_test, 'rmse'), \" --- Real RMSE:\", np.sqrt(mean_squared_error(y_test, pred1)))\n",
    "print(\"\\tMy R2:\", lr1.score(X, y, 'r2'), \" --- Real R2:\", r2_score(y_test, pred1))\n",
    "\n",
    "# --------- Comparing with scikit-learn Linear Regression ---------- #\n",
    "print(\"-\"*40,\"\\n\\nScikit-learn Linear regression:\")\n",
    "lr2 = sklearn.linear_model.LinearRegression()\n",
    "lr2.fit(X_train, y_train)\n",
    "pred2 = lr2.predict(X_test)\n",
    "print(\"\\tIntercept:\", lr2.intercept_, \"Coefficients:\", lr2.coef_)\n",
    "print(\"\\tSK-learn RMSE:\", np.sqrt(mean_squared_error(y_test, pred2)))\n",
    "print(\"\\tSK-learn R2:\", r2_score(y_test, pred2))"
   ]
  },
  {
   "cell_type": "markdown",
   "metadata": {},
   "source": [
    "## Statistical information\n",
    "\n",
    "Let us add functionality for viewing statistical info."
   ]
  },
  {
   "cell_type": "code",
   "execution_count": 4,
   "metadata": {
    "collapsed": true
   },
   "outputs": [],
   "source": [
    "class LinearRegression(LinearRegression):\n",
    "    \n",
    "        @abstractmethod\n",
    "        def show_stats(self):\n",
    "            print('='*50, '\\nShowing statistical info for linear regression\\n')\n",
    "            y_pred = self.predict(self.init_X)\n",
    "            # Residuals sum (should be zero if model contains intercept term):\n",
    "            RS = sum([y-y_hat for y, y_hat in zip(self.y, y_pred)])\n",
    "            print(\"Residuals sum:\", RS)\n",
    "            # Residual sum of squares\n",
    "            RSS = sum([np.square(y - y_hat) for y, y_hat in zip(self.y, y_pred)])\n",
    "            print(\"Residual sum of squares:\", RSS)\n",
    "            # RMSE score:\n",
    "            print(\"RMSE score:\", np.sqrt(RSS / len(self.y)))\n",
    "            # Residual Standard Error:\n",
    "            RSE = np.sqrt(RSS/(len(self.y) - 2))\n",
    "            print(\"RSE:\", RSE)\n",
    "            "
   ]
  },
  {
   "cell_type": "code",
   "execution_count": 5,
   "metadata": {
    "scrolled": true
   },
   "outputs": [
    {
     "name": "stdout",
     "output_type": "stream",
     "text": [
      "================================================== \n",
      "Showing statistical info for linear regression\n",
      "\n",
      "Residuals sum: 5.55111512313e-15\n",
      "Residual sum of squares: 0.0947984181462\n",
      "RMSE score: 0.0822880038758\n",
      "RSE: 0.0888812026181\n"
     ]
    },
    {
     "data": {
      "text/plain": [
       "array([ 0.30504788, -0.12155051, -0.10398831, -0.02560036])"
      ]
     },
     "execution_count": 5,
     "metadata": {},
     "output_type": "execute_result"
    }
   ],
   "source": [
    "lr1 = LinearRegression()\n",
    "lr1.fit(X_train, y_train)\n",
    "lr1.show_stats()\n",
    "lr1.coef_"
   ]
  },
  {
   "cell_type": "code",
   "execution_count": 22,
   "metadata": {},
   "outputs": [
    {
     "data": {
      "text/plain": [
       "'\\nX = [3.87, 3.61, 4.33, 3.43, 3.81, 3.83, 3.46, 3.76, 3.50, 3.58, 4.19, 3.78, 3.71, 3.73, 3.78]\\ny = [4.87, 3.93, 6.46, 3.33, 4.38, 4.70, 3.50, 4.50, 3.58, 3.64, 5.90, 4.43, 4.38, 4.42, 4.25]\\n'"
      ]
     },
     "execution_count": 22,
     "metadata": {},
     "output_type": "execute_result"
    }
   ],
   "source": [
    "X = [[0],[2],[2],[5],[5],[9],[9],[9],[9],[10]]\n",
    "y = [-2,0,2,1,3,1,0,0,1,-1]\n",
    "\n",
    "\"\"\"\n",
    "X = [3.87, 3.61, 4.33, 3.43, 3.81, 3.83, 3.46, 3.76, 3.50, 3.58, 4.19, 3.78, 3.71, 3.73, 3.78]\n",
    "y = [4.87, 3.93, 6.46, 3.33, 4.38, 4.70, 3.50, 4.50, 3.58, 3.64, 5.90, 4.43, 4.38, 4.42, 4.25]\n",
    "\"\"\"\n"
   ]
  },
  {
   "cell_type": "code",
   "execution_count": 24,
   "metadata": {},
   "outputs": [
    {
     "data": {
      "text/plain": [
       "array([ 0.40163934,  0.01639344])"
      ]
     },
     "execution_count": 24,
     "metadata": {},
     "output_type": "execute_result"
    }
   ],
   "source": [
    "lr1 = LinearRegression()\n",
    "lr1.fit(X, y)\n",
    "lr1.coef_"
   ]
  },
  {
   "cell_type": "code",
   "execution_count": 16,
   "metadata": {
    "scrolled": false
   },
   "outputs": [
    {
     "name": "stdout",
     "output_type": "stream",
     "text": [
      "                            OLS Regression Results                            \n",
      "==============================================================================\n",
      "Dep. Variable:                      y   R-squared:                       0.101\n",
      "Model:                            OLS   Adj. R-squared:                  0.001\n",
      "Method:                 Least Squares   F-statistic:                     1.013\n",
      "Date:                Sat, 16 Dec 2017   Prob (F-statistic):              0.340\n",
      "Time:                        07:08:35   Log-Likelihood:                -17.366\n",
      "No. Observations:                  10   AIC:                             36.73\n",
      "Df Residuals:                       9   BIC:                             37.03\n",
      "Df Model:                           1                                         \n",
      "Covariance Type:            nonrobust                                         \n",
      "==============================================================================\n",
      "                 coef    std err          t      P>|t|      [0.025      0.975]\n",
      "------------------------------------------------------------------------------\n",
      "x1             0.0664      0.066      1.006      0.340      -0.083       0.216\n",
      "==============================================================================\n",
      "Omnibus:                        0.250   Durbin-Watson:                   1.289\n",
      "Prob(Omnibus):                  0.883   Jarque-Bera (JB):                0.303\n",
      "Skew:                           0.278   Prob(JB):                        0.859\n",
      "Kurtosis:                       2.353   Cond. No.                         1.00\n",
      "==============================================================================\n",
      "\n",
      "Warnings:\n",
      "[1] Standard Errors assume that the covariance matrix of the errors is correctly specified.\n"
     ]
    },
    {
     "name": "stderr",
     "output_type": "stream",
     "text": [
      "/home/konstantin/anaconda3/lib/python3.6/site-packages/scipy/stats/stats.py:1334: UserWarning: kurtosistest only valid for n>=20 ... continuing anyway, n=10\n",
      "  \"anyway, n=%i\" % int(n))\n"
     ]
    }
   ],
   "source": [
    "import statsmodels.api as sm\n",
    "ols = sm.OLS(y, X)\n",
    "r = ols.fit()\n",
    "print(r.summary())"
   ]
  },
  {
   "cell_type": "code",
   "execution_count": null,
   "metadata": {},
   "outputs": [],
   "source": []
  },
  {
   "cell_type": "markdown",
   "metadata": {},
   "source": [
    "<a id='Appendix'></a>\n",
    "## Appendix\n",
    "[↑ To the top](#Top)<br><br>\n",
    "Code for a short simple Linear Regression class:"
   ]
  },
  {
   "cell_type": "code",
   "execution_count": 222,
   "metadata": {
    "collapsed": true
   },
   "outputs": [],
   "source": [
    "import numpy as np\n",
    "\n",
    "\n",
    "class LinearRegression:\n",
    "    def __init__(self):\n",
    "        self.X = None\n",
    "        self.y = None\n",
    "        self.coef_ = None\n",
    "        self.intercept_ = None\n",
    "        pass\n",
    "\n",
    "    def fit(self, X_train, y_train):\n",
    "        self.X = np.array(X_train)\n",
    "        self.y = np.array(y_train)\n",
    "        # 1. Initialize weights and add w0 (intercept) to weights:\n",
    "        self.coef_ = np.random.randn(len(self.X[0]) + 1)\n",
    "        # 2. Add constant x0=1 to all rows in X:\n",
    "        self.X = np.insert(self.X, 0, [1], axis=1)\n",
    "        # One step:\n",
    "        self.coef_ = np.dot(np.linalg.pinv(self.X), self.y)\n",
    "        self.intercept_ = self.coef_[0]\n",
    "\n",
    "    def predict(self, usr_X):\n",
    "        # 0. Do we have matrix X as an input, or just single vector x?\n",
    "        if np.array(usr_X).ndim == 1:  # vector\n",
    "            self.X = np.array([usr_X[:]])\n",
    "        else:  # matrix\n",
    "            self.X = np.array(usr_X[:])\n",
    "        # 1. Add constant x0=1 to all rows in X:\n",
    "        self.X = np.insert(self.X, 0, [1], axis=1)\n",
    "        # 1. Predict (return dot product):\n",
    "        return np.dot(self.X, self.coef_)\n",
    "\n",
    "    def score(self, X_test, y_test, metric='rmse'):\n",
    "        # 1. Get a prediction:\n",
    "        y_pred = self.predict(X_test)\n",
    "        # 2. Calculate score:\n",
    "        if metric == 'rmse':\n",
    "            \"\"\"RMSE\"\"\"\n",
    "            return np.sqrt((np.sum(np.square(y_pred - y_test))) / (len(y_test)))\n",
    "        elif metric == 'r2':\n",
    "            \"R2\"\n",
    "            y = np.array(y_test)\n",
    "            return 1 - np.square(np.linalg.norm(y - y_pred)) / np.square(np.linalg.norm(y - y.mean()))\n",
    "        else:\n",
    "            return None"
   ]
  },
  {
   "cell_type": "markdown",
   "metadata": {},
   "source": [
    "For testing:"
   ]
  },
  {
   "cell_type": "code",
   "execution_count": null,
   "metadata": {
    "collapsed": true
   },
   "outputs": [],
   "source": []
  }
 ],
 "metadata": {
  "kernelspec": {
   "display_name": "Python 3",
   "language": "python",
   "name": "python3"
  },
  "language_info": {
   "codemirror_mode": {
    "name": "ipython",
    "version": 3
   },
   "file_extension": ".py",
   "mimetype": "text/x-python",
   "name": "python",
   "nbconvert_exporter": "python",
   "pygments_lexer": "ipython3",
   "version": "3.6.3"
  }
 },
 "nbformat": 4,
 "nbformat_minor": 2
}
