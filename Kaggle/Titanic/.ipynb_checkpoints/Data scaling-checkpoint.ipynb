{
 "cells": [
  {
   "cell_type": "markdown",
   "metadata": {},
   "source": [
    "# Data scaling\n",
    "\n",
    "### Importing modules, loading dataset and breaking it into X and y"
   ]
  },
  {
   "cell_type": "code",
   "execution_count": 214,
   "metadata": {},
   "outputs": [],
   "source": [
    "# NumPy\n",
    "import numpy as np\n",
    "\n",
    "# Dataframe operations\n",
    "import pandas as pd\n",
    "\n",
    "# Data visualization\n",
    "import seaborn as sns\n",
    "import matplotlib.pyplot as plt\n",
    "\n",
    "# Scalers\n",
    "from sklearn.preprocessing import MinMaxScaler\n",
    "from sklearn.preprocessing import StandardScaler\n",
    "\n",
    "# Models\n",
    "from sklearn.linear_model import LogisticRegression #logistic regression\n",
    "from sklearn.linear_model import Perceptron\n",
    "from sklearn import svm #support vector Machine\n",
    "from sklearn.ensemble import RandomForestClassifier #Random Forest\n",
    "from sklearn.neighbors import KNeighborsClassifier #KNN\n",
    "from sklearn.naive_bayes import GaussianNB #Naive bayes\n",
    "from sklearn.tree import DecisionTreeClassifier #Decision Tree\n",
    "from sklearn.model_selection import train_test_split #training and testing data split\n",
    "from sklearn import metrics #accuracy measure\n",
    "from sklearn.metrics import confusion_matrix #for confusion matrix\n",
    "from sklearn.ensemble import VotingClassifier\n",
    "from sklearn.ensemble import AdaBoostClassifier\n",
    "\n",
    "# Cross-validation\n",
    "from sklearn.model_selection import KFold #for K-fold cross validation\n",
    "from sklearn.model_selection import cross_val_score #score evaluation\n",
    "from sklearn.model_selection import cross_val_predict #prediction\n",
    "\n",
    "# GridSearchCV\n",
    "from sklearn.model_selection import GridSearchCV\n",
    "\n",
    "%matplotlib inline\n",
    "\n",
    "# Loading data:\n",
    "train_df = pd.read_csv('train_df.csv')\n",
    "test_df = pd.read_csv('test_df.csv')\n",
    "\n",
    "# Loading REAL data:\n",
    "real_df = pd.read_excel('real_data.xls')\n",
    "y_real = real_df['survived'][891:]"
   ]
  },
  {
   "cell_type": "markdown",
   "metadata": {},
   "source": [
    "## 0. Загрузка чистых X и y "
   ]
  },
  {
   "cell_type": "code",
   "execution_count": 215,
   "metadata": {},
   "outputs": [],
   "source": [
    "X = train_df.drop('Survived', 1)\n",
    "y = train_df['Survived']"
   ]
  },
  {
   "cell_type": "markdown",
   "metadata": {},
   "source": [
    "## 1. Шкалирование в [0, 1]"
   ]
  },
  {
   "cell_type": "code",
   "execution_count": 48,
   "metadata": {
    "collapsed": true
   },
   "outputs": [],
   "source": [
    "X = MinMaxScaler(feature_range=(0, 1)).fit_transform(X)"
   ]
  },
  {
   "cell_type": "markdown",
   "metadata": {},
   "source": [
    "## 2. Стандартизация"
   ]
  },
  {
   "cell_type": "code",
   "execution_count": 216,
   "metadata": {},
   "outputs": [],
   "source": [
    "# Standardizing ALL features:\n",
    "X = StandardScaler().fit_transform(X)\n",
    "\n",
    "# Standardizing all but Categorical features:\n",
    "# FORMULA :: dfTest[['A', 'B']] = scaler.fit_transform(dfTest[['A', 'B']])\n",
    "# temp = train_df\n",
    "# temp[['Pclass','Age','Family_Size']] = StandardScaler().fit_transform(train_df[['Pclass','Age','Family_Size']])\n",
    "# X = temp.drop('Survived', 1)\n",
    "# y = temp['Survived']"
   ]
  },
  {
   "cell_type": "markdown",
   "metadata": {},
   "source": [
    "## Оценка на группе различных моделей"
   ]
  },
  {
   "cell_type": "code",
   "execution_count": 197,
   "metadata": {
    "scrolled": true
   },
   "outputs": [
    {
     "data": {
      "text/html": [
       "<div>\n",
       "<style>\n",
       "    .dataframe thead tr:only-child th {\n",
       "        text-align: right;\n",
       "    }\n",
       "\n",
       "    .dataframe thead th {\n",
       "        text-align: left;\n",
       "    }\n",
       "\n",
       "    .dataframe tbody tr th {\n",
       "        vertical-align: top;\n",
       "    }\n",
       "</style>\n",
       "<table border=\"1\" class=\"dataframe\">\n",
       "  <thead>\n",
       "    <tr style=\"text-align: right;\">\n",
       "      <th></th>\n",
       "      <th>CV Mean</th>\n",
       "      <th>Std</th>\n",
       "    </tr>\n",
       "  </thead>\n",
       "  <tbody>\n",
       "    <tr>\n",
       "      <th>Linear Svm</th>\n",
       "      <td>0.832747</td>\n",
       "      <td>0.028307</td>\n",
       "    </tr>\n",
       "    <tr>\n",
       "      <th>Radial Svm</th>\n",
       "      <td>0.826042</td>\n",
       "      <td>0.034513</td>\n",
       "    </tr>\n",
       "    <tr>\n",
       "      <th>Logistic Regression</th>\n",
       "      <td>0.840624</td>\n",
       "      <td>0.025045</td>\n",
       "    </tr>\n",
       "    <tr>\n",
       "      <th>KNN</th>\n",
       "      <td>0.785693</td>\n",
       "      <td>0.042094</td>\n",
       "    </tr>\n",
       "    <tr>\n",
       "      <th>Decision Tree</th>\n",
       "      <td>0.827154</td>\n",
       "      <td>0.023718</td>\n",
       "    </tr>\n",
       "    <tr>\n",
       "      <th>Naive Bayes</th>\n",
       "      <td>0.824931</td>\n",
       "      <td>0.028845</td>\n",
       "    </tr>\n",
       "    <tr>\n",
       "      <th>Random Forest</th>\n",
       "      <td>0.835031</td>\n",
       "      <td>0.016539</td>\n",
       "    </tr>\n",
       "  </tbody>\n",
       "</table>\n",
       "</div>"
      ],
      "text/plain": [
       "                      CV Mean       Std\n",
       "Linear Svm           0.832747  0.028307\n",
       "Radial Svm           0.826042  0.034513\n",
       "Logistic Regression  0.840624  0.025045\n",
       "KNN                  0.785693  0.042094\n",
       "Decision Tree        0.827154  0.023718\n",
       "Naive Bayes          0.824931  0.028845\n",
       "Random Forest        0.835031  0.016539"
      ]
     },
     "execution_count": 197,
     "metadata": {},
     "output_type": "execute_result"
    }
   ],
   "source": [
    "kfold = KFold(n_splits=10, random_state=22) # k=10, split the data into 10 equal parts\n",
    "xyz=[]\n",
    "accuracy=[]\n",
    "std=[]\n",
    "classifiers=['Linear Svm','Radial Svm','Logistic Regression','KNN','Decision Tree','Naive Bayes','Random Forest']\n",
    "models=[svm.SVC(kernel='linear'),svm.SVC(kernel='rbf'),LogisticRegression(),KNeighborsClassifier(n_neighbors=8),\n",
    "        DecisionTreeClassifier(),GaussianNB(),RandomForestClassifier(n_estimators=100)]\n",
    "for i in models:\n",
    "    model = i\n",
    "    cv_result = cross_val_score(model, X, y, cv = kfold, scoring = \"accuracy\")\n",
    "    cv_result = cv_result\n",
    "    xyz.append(cv_result.mean())\n",
    "    std.append(cv_result.std())\n",
    "    accuracy.append(cv_result)\n",
    "new_models_dataframe = pd.DataFrame({'CV Mean':xyz,'Std':std},index=classifiers)       \n",
    "new_models_dataframe"
   ]
  },
  {
   "cell_type": "markdown",
   "metadata": {},
   "source": [
    "## Оценка на ансамблях"
   ]
  },
  {
   "cell_type": "code",
   "execution_count": 65,
   "metadata": {},
   "outputs": [
    {
     "name": "stdout",
     "output_type": "stream",
     "text": [
      "Ensamble CV score score = 0.849597094541\n"
     ]
    }
   ],
   "source": [
    "ensemble_lin_rbf=VotingClassifier(estimators=[('KNN',KNeighborsClassifier(n_neighbors=8)),\n",
    "                                              ('RBF',svm.SVC(probability=True,kernel='rbf',C=0.5,gamma=0.1)),\n",
    "                                              ('RFor',RandomForestClassifier(n_estimators=500,random_state=0)),\n",
    "                                              ('LR',LogisticRegression(C=0.05)),\n",
    "                                              ('DT',DecisionTreeClassifier(random_state=0)),\n",
    "                                              ('NB',GaussianNB()),\n",
    "                                              ('svm',svm.SVC(kernel='linear',probability=True))\n",
    "                                             ], \n",
    "                       voting='soft').fit(X, y)\n",
    "cross=cross_val_score(ensemble_lin_rbf, X, y, cv = 10,scoring = \"accuracy\")\n",
    "print('Ensamble CV score score =',cross.mean())"
   ]
  },
  {
   "cell_type": "code",
   "execution_count": 66,
   "metadata": {
    "scrolled": false
   },
   "outputs": [
    {
     "name": "stdout",
     "output_type": "stream",
     "text": [
      "AdaBoost CV score = 0.844066791511\n"
     ]
    }
   ],
   "source": [
    "ada=AdaBoostClassifier(n_estimators=200,random_state=0,learning_rate=0.1)\n",
    "result=cross_val_score(ada,X,y,cv=10,scoring='accuracy')\n",
    "print('AdaBoost CV score =',result.mean())"
   ]
  },
  {
   "cell_type": "markdown",
   "metadata": {},
   "source": [
    "### KNN\n",
    "Для стандартизированных данных лучшие параметры KNN:<br>\n",
    "**0.858585858586**<br>\n",
    "KNeighborsClassifier(algorithm='auto', leaf_size=6, metric='minkowski',\n",
    "           metric_params=None, n_jobs=1, n_neighbors=6, p=2,\n",
    "           weights='uniform')"
   ]
  },
  {
   "cell_type": "code",
   "execution_count": 110,
   "metadata": {
    "scrolled": false
   },
   "outputs": [
    {
     "name": "stdout",
     "output_type": "stream",
     "text": [
      "Fitting 10 folds for each of 58 candidates, totalling 580 fits\n",
      "0.855218855219\n",
      "KNeighborsClassifier(algorithm='auto', leaf_size=30, metric='minkowski',\n",
      "           metric_params=None, n_jobs=1, n_neighbors=27, p=2,\n",
      "           weights='uniform')\n"
     ]
    },
    {
     "name": "stderr",
     "output_type": "stream",
     "text": [
      "[Parallel(n_jobs=1)]: Done 580 out of 580 | elapsed:   12.2s finished\n"
     ]
    }
   ],
   "source": [
    "n_neighbors = list(range(1,30,1))\n",
    "algo = ['auto','ball_tree','kd_tree'] # used; best seems to be auto\n",
    "weights = ['uniform', 'distance'] # used\n",
    "leaf_size = list(range(1,50,5)) # used;\n",
    "hyperparams = {'n_neighbors': n_neighbors, 'weights': weights}\n",
    "gd=GridSearchCV(estimator = KNeighborsClassifier(), param_grid = hyperparams, verbose=True, cv=10)\n",
    "gd.fit(X, y)\n",
    "print(gd.best_score_)\n",
    "print(gd.best_estimator_)"
   ]
  },
  {
   "cell_type": "markdown",
   "metadata": {},
   "source": [
    "### LogisticRegression"
   ]
  },
  {
   "cell_type": "code",
   "execution_count": 143,
   "metadata": {},
   "outputs": [
    {
     "name": "stdout",
     "output_type": "stream",
     "text": [
      "Fitting 10 folds for each of 270 candidates, totalling 2700 fits\n",
      "0.846240179574\n",
      "LogisticRegression(C=0.3, class_weight=None, dual=False, fit_intercept=True,\n",
      "          intercept_scaling=1, max_iter=100, multi_class='ovr', n_jobs=1,\n",
      "          penalty='l2', random_state=None, solver='sag', tol=0.1,\n",
      "          verbose=0, warm_start=False)\n"
     ]
    },
    {
     "name": "stderr",
     "output_type": "stream",
     "text": [
      "[Parallel(n_jobs=1)]: Done 2700 out of 2700 | elapsed:   21.1s finished\n"
     ]
    }
   ],
   "source": [
    "solver = ['newton-cg', 'lbfgs', 'liblinear', 'sag', 'saga']\n",
    "C = [0.1, 0.3, 0.5, 0.7, 0.9, 1.0, 1.1, 1.3, 1.5] # C=0.3?\n",
    "tol = [0.000001, 0.00001, 0.0001, 0.001,0.01,0.1] # C=0.1?\n",
    "hyperparams = {'solver': solver, 'tol': tol, 'C':C}\n",
    "gd=GridSearchCV(estimator = LogisticRegression(), param_grid = hyperparams, verbose=True, cv=10)\n",
    "gd.fit(X, y)\n",
    "print(gd.best_score_)\n",
    "print(gd.best_estimator_)"
   ]
  },
  {
   "cell_type": "markdown",
   "metadata": {},
   "source": [
    "<br>\n",
    "<br>\n",
    "<br>\n",
    "## Проверка группы моделей на РЕАЛЬНЫХ данных"
   ]
  },
  {
   "cell_type": "code",
   "execution_count": 217,
   "metadata": {
    "scrolled": true
   },
   "outputs": [
    {
     "data": {
      "text/html": [
       "<div>\n",
       "<style>\n",
       "    .dataframe thead tr:only-child th {\n",
       "        text-align: right;\n",
       "    }\n",
       "\n",
       "    .dataframe thead th {\n",
       "        text-align: left;\n",
       "    }\n",
       "\n",
       "    .dataframe tbody tr th {\n",
       "        vertical-align: top;\n",
       "    }\n",
       "</style>\n",
       "<table border=\"1\" class=\"dataframe\">\n",
       "  <thead>\n",
       "    <tr style=\"text-align: right;\">\n",
       "      <th></th>\n",
       "      <th>Accuracy on real data</th>\n",
       "      <th>CV Mean</th>\n",
       "      <th>Std</th>\n",
       "    </tr>\n",
       "  </thead>\n",
       "  <tbody>\n",
       "    <tr>\n",
       "      <th>Linear Svm</th>\n",
       "      <td>0.566986</td>\n",
       "      <td>0.832747</td>\n",
       "      <td>0.028307</td>\n",
       "    </tr>\n",
       "    <tr>\n",
       "      <th>Radial Svm</th>\n",
       "      <td>0.600478</td>\n",
       "      <td>0.851835</td>\n",
       "      <td>0.033319</td>\n",
       "    </tr>\n",
       "    <tr>\n",
       "      <th>Logistic Regression</th>\n",
       "      <td>0.583732</td>\n",
       "      <td>0.840624</td>\n",
       "      <td>0.025045</td>\n",
       "    </tr>\n",
       "    <tr>\n",
       "      <th>KNN</th>\n",
       "      <td>0.619617</td>\n",
       "      <td>0.848514</td>\n",
       "      <td>0.029222</td>\n",
       "    </tr>\n",
       "    <tr>\n",
       "      <th>Decision Tree</th>\n",
       "      <td>0.617225</td>\n",
       "      <td>0.827154</td>\n",
       "      <td>0.019642</td>\n",
       "    </tr>\n",
       "    <tr>\n",
       "      <th>Naive Bayes</th>\n",
       "      <td>0.569378</td>\n",
       "      <td>0.824931</td>\n",
       "      <td>0.028845</td>\n",
       "    </tr>\n",
       "    <tr>\n",
       "      <th>Random Forest</th>\n",
       "      <td>0.590909</td>\n",
       "      <td>0.832797</td>\n",
       "      <td>0.018848</td>\n",
       "    </tr>\n",
       "    <tr>\n",
       "      <th>Perceptron</th>\n",
       "      <td>0.619617</td>\n",
       "      <td>0.794594</td>\n",
       "      <td>0.039982</td>\n",
       "    </tr>\n",
       "  </tbody>\n",
       "</table>\n",
       "</div>"
      ],
      "text/plain": [
       "                     Accuracy on real data   CV Mean       Std\n",
       "Linear Svm                        0.566986  0.832747  0.028307\n",
       "Radial Svm                        0.600478  0.851835  0.033319\n",
       "Logistic Regression               0.583732  0.840624  0.025045\n",
       "KNN                               0.619617  0.848514  0.029222\n",
       "Decision Tree                     0.617225  0.827154  0.019642\n",
       "Naive Bayes                       0.569378  0.824931  0.028845\n",
       "Random Forest                     0.590909  0.832797  0.018848\n",
       "Perceptron                        0.619617  0.794594  0.039982"
      ]
     },
     "execution_count": 217,
     "metadata": {},
     "output_type": "execute_result"
    }
   ],
   "source": [
    "# -------------------------------------------------\n",
    "X_test = test_df\n",
    "X_test = StandardScaler().fit_transform(X_test)\n",
    "# -------------------------------------------------\n",
    "\n",
    "kfold = KFold(n_splits=10, random_state=22) # k=10, split the data into 10 equal parts\n",
    "xyz=[]\n",
    "accuracy=[]\n",
    "std=[]\n",
    "out_of_sample_score = []\n",
    "classifiers=['Linear Svm','Radial Svm','Logistic Regression','KNN','Decision Tree','Naive Bayes',\n",
    "             'Random Forest', 'Perceptron']\n",
    "models=[svm.SVC(kernel='linear'),svm.SVC(kernel='rbf'),LogisticRegression(),KNeighborsClassifier(n_neighbors=8),\n",
    "        DecisionTreeClassifier(),GaussianNB(),RandomForestClassifier(n_estimators=100), \n",
    "        Perceptron(max_iter=5)]\n",
    "for i in models:\n",
    "    model = i\n",
    "    cv_result = cross_val_score(model, X, y, cv = kfold, scoring = \"accuracy\")\n",
    "    xyz.append(cv_result.mean())\n",
    "    std.append(cv_result.std())\n",
    "    accuracy.append(cv_result)\n",
    "    # Real out of sample accuracy:\n",
    "    model.fit(X, y)\n",
    "    y_pred = model.predict(X_test)\n",
    "    out_of_sample_score.append(metrics.accuracy_score(y_real, y_pred))\n",
    "    \n",
    "new_models_dataframe = pd.DataFrame({'CV Mean':xyz,'Std':std, 'Accuracy on real data': out_of_sample_score},\n",
    "                                    index=classifiers)\n",
    "new_models_dataframe"
   ]
  },
  {
   "cell_type": "markdown",
   "metadata": {},
   "source": [
    "## Проверка выбрaнной лучшей модели на РЕАЛЬНЫХ данных\n",
    "Здесь проверяется генерализация (обобщающая способность) - насколько хорошо модель работает с вневыборочными данными."
   ]
  },
  {
   "cell_type": "code",
   "execution_count": 247,
   "metadata": {},
   "outputs": [
    {
     "data": {
      "text/plain": [
       "0.61244019138755978"
      ]
     },
     "execution_count": 247,
     "metadata": {},
     "output_type": "execute_result"
    }
   ],
   "source": [
    "X_test = test_df\n",
    "X_test = StandardScaler().fit_transform(X_test)\n",
    "\n",
    "best_model = KNeighborsClassifier(algorithm='auto', leaf_size=6, metric='minkowski', \n",
    "                                  metric_params=None, n_jobs=1, n_neighbors=6, p=2, \n",
    "                                  weights='uniform')\n",
    "\n",
    "best_model.fit(X, y)\n",
    "y_pred = best_model.predict(X_test)\n",
    "\n",
    "metrics.accuracy_score(y_real, y_pred)"
   ]
  },
  {
   "cell_type": "code",
   "execution_count": 267,
   "metadata": {
    "collapsed": true
   },
   "outputs": [],
   "source": [
    "best_model = LogisticRegression(C=0.3, class_weight=None, dual=False, fit_intercept=True, \n",
    "                                intercept_scaling=1, max_iter=100, multi_class='ovr', n_jobs=1,\n",
    "                                penalty='l2', random_state=None, solver='sag', tol=0.1,\n",
    "                                verbose=0, warm_start=False)\n",
    "best_model = svm.SVC(kernel='rbf')\n",
    "best_model = RandomForestClassifier(n_estimators=100)"
   ]
  },
  {
   "cell_type": "code",
   "execution_count": 268,
   "metadata": {
    "scrolled": false
   },
   "outputs": [
    {
     "data": {
      "image/png": "[encoded data removed]",
      "text/plain": [
       "<matplotlib.figure.Figure at 0x7fc1a53f9eb8>"
      ]
     },
     "metadata": {},
     "output_type": "display_data"
    }
   ],
   "source": [
    "# Data partitions will look like [2, 3, 4, 5, 6, 7, 8, 9, 10, 20, 30, 40, 50, ... , 890].\n",
    "# This depicts how many examples do we take from training set to fit our model.\n",
    "data_partitions = list(range(2, 10))\n",
    "for i in range(10, 891, 10):\n",
    "    data_partitions.append(i)\n",
    "data_partitions = list(range(40, 891, 10))\n",
    "\n",
    "# Random shuffling!\n",
    "from sklearn.utils import shuffle\n",
    "Xxx, yyy = shuffle(X, y)\n",
    "\n",
    "scores = []\n",
    "cv_results = []\n",
    "for n_examples in data_partitions:\n",
    "    # X_temp, y_temp = shuffle(X[:n_examples]), shuffle(y[:n_examples])\n",
    "    X_temp, y_temp = X[:n_examples], y[:n_examples]\n",
    "    # X_temp, y_temp = Xxx[:n_examples], yyy[:n_examples]\n",
    "    best_model.fit(X_temp, y_temp)\n",
    "    y_pred = best_model.predict(X_test)\n",
    "    # Measuring real data performance:\n",
    "    score = metrics.accuracy_score(y_real, y_pred)\n",
    "    scores.append(score)\n",
    "    # Measuring cv score:\n",
    "    cv_result = cross_val_score(best_model, X_temp, y_temp, cv = 10, scoring = \"accuracy\")\n",
    "    cv_results.append(cv_result.mean())\n",
    "    #print(n_examples, ' '*4, score)\n",
    "    \n",
    "#plt.plot(data_partitions, scores, 'c--', label='y = x - 2')\n",
    "#plt.show()\n",
    "\n",
    "real_data_performance,   = plt.plot(data_partitions, scores, 'c', label='Accuracy on real data')\n",
    "cv_measured_performance, = plt.plot(data_partitions, cv_results, 'r', label='Mean CV accuracy')\n",
    "\n",
    "# Setting up a legend and tuning figure size: \n",
    "plt.rcParams[\"figure.figsize\"] = [9, 6]\n",
    "plt.legend(handles=[real_data_performance, cv_measured_performance], prop={'size': 12})\n",
    "plt.show()\n",
    "\n",
    "#print(cv_results)"
   ]
  },
  {
   "cell_type": "markdown",
   "metadata": {},
   "source": [
    "<br>\n",
    "<br>\n",
    "<br>\n",
    "## Применение модели и запись данных"
   ]
  },
  {
   "cell_type": "code",
   "execution_count": 128,
   "metadata": {},
   "outputs": [],
   "source": [
    "X_test = test_df\n",
    "X_test = StandardScaler().fit_transform(X_test)\n",
    "\n",
    "best_model = KNeighborsClassifier(algorithm='auto', leaf_size=6, metric='minkowski', \n",
    "                                  metric_params=None, n_jobs=1, n_neighbors=6, p=2, \n",
    "                                  weights='uniform')\n",
    "\n",
    "best_model.fit(X, y)\n",
    "y_pred = best_model.predict(X_test)\n",
    "\n",
    "\"\"\"\n",
    "# WRITING DATA TO SUBMISSION FILE #\n",
    "test_csv_df = pd.read_csv(\"test.csv\")\n",
    "submission = pd.DataFrame({\n",
    "        \"PassengerId\": test_csv_df[\"PassengerId\"],\n",
    "        \"Survived\": y_pred})\n",
    "submission.to_csv('submission.csv', index=False)\n",
    "\"\"\""
   ]
  }
 ],
 "metadata": {
  "kernelspec": {
   "display_name": "Python 3",
   "language": "python",
   "name": "python3"
  },
  "language_info": {
   "codemirror_mode": {
    "name": "ipython",
    "version": 3
   },
   "file_extension": ".py",
   "mimetype": "text/x-python",
   "name": "python",
   "nbconvert_exporter": "python",
   "pygments_lexer": "ipython3",
   "version": "3.6.3"
  }
 },
 "nbformat": 4,
 "nbformat_minor": 2
}
