{
 "cells": [
  {
   "cell_type": "code",
   "execution_count": 106,
   "metadata": {
    "collapsed": true
   },
   "outputs": [],
   "source": [
    "# NumPy\n",
    "import numpy as np\n",
    "\n",
    "# Dataframe operations\n",
    "import pandas as pd\n",
    "\n",
    "# Data visualization\n",
    "import seaborn as sns\n",
    "import matplotlib.pyplot as plt\n",
    "\n",
    "%matplotlib inline"
   ]
  },
  {
   "cell_type": "code",
   "execution_count": 107,
   "metadata": {
    "scrolled": false
   },
   "outputs": [
    {
     "name": "stdout",
     "output_type": "stream",
     "text": [
      "AGE NaN count: 263\n"
     ]
    }
   ],
   "source": [
    "# 1. Loading training and testing datasets and merging them:\n",
    "train_df = pd.read_csv('train.csv')[['Name', 'Age']]\n",
    "test_df = pd.read_csv('test.csv')[['Name', 'Age']]\n",
    "data = train_df.append(test_df)\n",
    "\n",
    "# 2. Loading real data:\n",
    "real_data = pd.read_excel('real_data.xls')[['age']]\n",
    "print(\"AGE NaN count:\", real_data['age'].isnull().sum())"
   ]
  },
  {
   "cell_type": "code",
   "execution_count": 48,
   "metadata": {},
   "outputs": [],
   "source": [
    "title_feature = pd.DataFrame()\n",
    "title_feature['Title'] = data['Name']\n",
    "for name_string in data['Name']:\n",
    "    title_feature['Title']=data.Name.str.extract('([A-Za-z]+)\\.', expand=True)\n",
    "\n",
    "mapping = {'Mlle': 'Miss', 'Major': 'Mr', 'Col': 'Mr', 'Sir': 'Mr', 'Don': 'Mr', 'Mme': 'Miss',\n",
    "          'Jonkheer': 'Mr', 'Lady': 'Mrs', 'Capt': 'Mr', 'Countess': 'Mrs', 'Ms': 'Miss', 'Dona': 'Mrs'}\n",
    "title_feature.replace({'Title': mapping}, inplace=True)"
   ]
  },
  {
   "cell_type": "code",
   "execution_count": 49,
   "metadata": {},
   "outputs": [
    {
     "data": {
      "text/plain": [
       "Title\n",
       "Dr        43.571429\n",
       "Master     5.482642\n",
       "Miss      21.834533\n",
       "Mr        32.569374\n",
       "Mrs       37.046243\n",
       "Rev       41.250000\n",
       "Name: Age, dtype: float64"
      ]
     },
     "execution_count": 49,
     "metadata": {},
     "output_type": "execute_result"
    }
   ],
   "source": [
    "title_feature['Age'] = data['Age']\n",
    "title_feature.groupby('Title')['Age'].mean()"
   ]
  },
  {
   "cell_type": "code",
   "execution_count": 97,
   "metadata": {},
   "outputs": [],
   "source": [
    "temp = pd.DataFrame()\n",
    "temp['Title'] = title_feature['Title']\n",
    "temp['Age'] = data['Age'] \n",
    "\n",
    "# Forming titles DFs\n",
    "titles = list(set(temp['Title'].tolist())) # List of all our chosen titles\n",
    "l = []\n",
    "for t in titles:\n",
    "    l.append(temp.loc[(temp.Age.notnull()) & (temp['Title']==t)])\n",
    "\n",
    "# Note that we perform imputation on TRAIN_DF now!\n",
    "data['Title'] = title_feature['Title']\n",
    "data.loc[(data['Age'].isnull()) & (data['Title']=='Dr'),'Age']     = 46.5\n",
    "data.loc[(data['Age'].isnull()) & (data['Title']=='Master'),'Age'] = 3.5\n",
    "data.loc[(data['Age'].isnull()) & (data['Title']=='Miss'),'Age']   = 21.5\n",
    "data.loc[(data['Age'].isnull()) & (data['Title']=='Mr'),'Age']     = 30.0\n",
    "data.loc[(data['Age'].isnull()) & (data['Title']=='Mrs'),'Age']    = 35.9\n",
    "data.loc[(data['Age'].isnull()) & (data['Title']=='Rev'),'Age']    = 46.5\n",
    "\n",
    "# Dropping Title feature for now - because maybe it will not be needed at all, who knows.\n",
    "data.drop('Title', axis=1, inplace=True)"
   ]
  },
  {
   "cell_type": "code",
   "execution_count": 98,
   "metadata": {},
   "outputs": [
    {
     "name": "stdout",
     "output_type": "stream",
     "text": [
      "                                                Name   Age\n",
      "408                  Riordan, Miss. Johanna Hannah\"\"  21.5\n",
      "409                        Peacock, Miss. Treasteall   3.0\n",
      "410                           Naughton, Miss. Hannah  21.5\n",
      "411  Minahan, Mrs. William Edward (Lillian E Thorpe)  37.0\n",
      "412                   Henriksson, Miss. Jenny Lovisa  28.0\n",
      "413                               Spector, Mr. Woolf  30.0\n",
      "414                     Oliva y Ocana, Dona. Fermina  39.0\n",
      "415                     Saether, Mr. Simon Sivertsen  38.5\n",
      "416                              Ware, Mr. Frederick  30.0\n",
      "417                         Peter, Master. Michael J   3.5 \n",
      "        age\n",
      "1299  27.0\n",
      "1300  15.0\n",
      "1301  45.5\n",
      "1302   NaN\n",
      "1303   NaN\n",
      "1304  14.5\n",
      "1305   NaN\n",
      "1306  26.5\n",
      "1307  27.0\n",
      "1308  29.0\n",
      "(1309, 1)\n"
     ]
    }
   ],
   "source": [
    "print(data.tail(10), '\\n', real_data.tail(10))\n",
    "print(real_data.shape)"
   ]
  },
  {
   "cell_type": "code",
   "execution_count": 93,
   "metadata": {},
   "outputs": [
    {
     "data": {
      "text/plain": [
       "0        7.0000\n",
       "0       -5.5000\n",
       "1      -37.0833\n",
       "1      -46.0833\n",
       "2      -24.0000\n",
       "2      -60.0000\n",
       "3       -5.0000\n",
       "3        3.0000\n",
       "4      -10.0000\n",
       "4        3.0000\n",
       "5       18.0000\n",
       "5       34.0000\n",
       "6        9.0000\n",
       "6       33.0000\n",
       "7       37.0000\n",
       "7       13.0000\n",
       "8       26.0000\n",
       "8       35.0000\n",
       "9       57.0000\n",
       "9       50.0000\n",
       "10      43.0000\n",
       "10      17.0000\n",
       "11     -40.0000\n",
       "11     -28.0000\n",
       "12       4.0000\n",
       "12       1.0000\n",
       "13     -13.0000\n",
       "13     -37.0000\n",
       "14      66.0000\n",
       "14      33.0000\n",
       "         ...   \n",
       "1279        NaN\n",
       "1280        NaN\n",
       "1281        NaN\n",
       "1282        NaN\n",
       "1283        NaN\n",
       "1284        NaN\n",
       "1285        NaN\n",
       "1286        NaN\n",
       "1287        NaN\n",
       "1288        NaN\n",
       "1289        NaN\n",
       "1290        NaN\n",
       "1291        NaN\n",
       "1292        NaN\n",
       "1293        NaN\n",
       "1294        NaN\n",
       "1295        NaN\n",
       "1296        NaN\n",
       "1297        NaN\n",
       "1298        NaN\n",
       "1299        NaN\n",
       "1300        NaN\n",
       "1301        NaN\n",
       "1302        NaN\n",
       "1303        NaN\n",
       "1304        NaN\n",
       "1305        NaN\n",
       "1306        NaN\n",
       "1307        NaN\n",
       "1308        NaN\n",
       "Length: 1727, dtype: float64"
      ]
     },
     "execution_count": 93,
     "metadata": {},
     "output_type": "execute_result"
    }
   ],
   "source": [
    "z = real_data['age'] - data['Age']\n",
    "\n",
    "z"
   ]
  },
  {
   "cell_type": "code",
   "execution_count": null,
   "metadata": {
    "collapsed": true
   },
   "outputs": [],
   "source": []
  }
 ],
 "metadata": {
  "kernelspec": {
   "display_name": "Python 3",
   "language": "python",
   "name": "python3"
  },
  "language_info": {
   "codemirror_mode": {
    "name": "ipython",
    "version": 3
   },
   "file_extension": ".py",
   "mimetype": "text/x-python",
   "name": "python",
   "nbconvert_exporter": "python",
   "pygments_lexer": "ipython3",
   "version": "3.6.3"
  }
 },
 "nbformat": 4,
 "nbformat_minor": 2
}
