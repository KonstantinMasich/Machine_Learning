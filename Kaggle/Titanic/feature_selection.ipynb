{
 "cells": [
  {
   "cell_type": "markdown",
   "metadata": {},
   "source": [
    "+++++++++++++++++++++++++++++++++++++++++++++++++++++++++\n",
    "\n",
    "Naturally, this is work in progress and many things here change\n",
    "as I learn new methods and models and other stuff.\n",
    "\n",
    "This notebook uses html-like markdown for coloring text so might not be convertable into LaTeX.\n",
    "\n",
    "+++++++++++++++++++++++++++++++++++++++++++++++++++++++++"
   ]
  },
  {
   "cell_type": "markdown",
   "metadata": {
    "collapsed": true
   },
   "source": [
    "# 1. Problem recognition\n",
    "<div class=\"alert alert-block alert-info\">First of all we must understand what problem lies before us, before we attempt to solve it.</div>\n",
    "\n",
    "This is a **classification** problem: based on a given input matrix/vector, we need to predict one of the two binary outcomes:\n",
    "- 0 (passenger dies), or\n",
    "- 1 (passenger survives)\n",
    "\n",
    "Thus we will have to use models designed for Classification.\n",
    "\n",
    "\n",
    "# 2. Dataframe overview\n",
    "<div class=\"alert alert-block alert-info\">We must review the dataset we are working with. What is its structure? What types of data are we dealing with? Is there any missing data? Etc.</div>\n",
    "\n",
    "### Preparing dataframe"
   ]
  },
  {
   "cell_type": "code",
   "execution_count": 5,
   "metadata": {
    "collapsed": true
   },
   "outputs": [],
   "source": [
    "# NumPy\n",
    "import numpy as np\n",
    "\n",
    "# Dataframe operations\n",
    "import pandas as pd\n",
    "\n",
    "# Data visualization\n",
    "import seaborn as sns\n",
    "import matplotlib.pyplot as plt\n",
    "\n",
    "%matplotlib inline"
   ]
  },
  {
   "cell_type": "code",
   "execution_count": 6,
   "metadata": {
    "scrolled": true
   },
   "outputs": [
    {
     "name": "stdout",
     "output_type": "stream",
     "text": [
      "TRAIN DATAFRAME SHAPE = (891, 12)\n"
     ]
    },
    {
     "data": {
      "text/html": [
       "<div>\n",
       "<style>\n",
       "    .dataframe thead tr:only-child th {\n",
       "        text-align: right;\n",
       "    }\n",
       "\n",
       "    .dataframe thead th {\n",
       "        text-align: left;\n",
       "    }\n",
       "\n",
       "    .dataframe tbody tr th {\n",
       "        vertical-align: top;\n",
       "    }\n",
       "</style>\n",
       "<table border=\"1\" class=\"dataframe\">\n",
       "  <thead>\n",
       "    <tr style=\"text-align: right;\">\n",
       "      <th></th>\n",
       "      <th>PassengerId</th>\n",
       "      <th>Survived</th>\n",
       "      <th>Pclass</th>\n",
       "      <th>Name</th>\n",
       "      <th>Sex</th>\n",
       "      <th>Age</th>\n",
       "      <th>SibSp</th>\n",
       "      <th>Parch</th>\n",
       "      <th>Ticket</th>\n",
       "      <th>Fare</th>\n",
       "      <th>Cabin</th>\n",
       "      <th>Embarked</th>\n",
       "    </tr>\n",
       "  </thead>\n",
       "  <tbody>\n",
       "    <tr>\n",
       "      <th>0</th>\n",
       "      <td>1</td>\n",
       "      <td>0</td>\n",
       "      <td>3</td>\n",
       "      <td>Braund, Mr. Owen Harris</td>\n",
       "      <td>male</td>\n",
       "      <td>22.0</td>\n",
       "      <td>1</td>\n",
       "      <td>0</td>\n",
       "      <td>A/5 21171</td>\n",
       "      <td>7.2500</td>\n",
       "      <td>NaN</td>\n",
       "      <td>S</td>\n",
       "    </tr>\n",
       "    <tr>\n",
       "      <th>1</th>\n",
       "      <td>2</td>\n",
       "      <td>1</td>\n",
       "      <td>1</td>\n",
       "      <td>Cumings, Mrs. John Bradley (Florence Briggs Th...</td>\n",
       "      <td>female</td>\n",
       "      <td>38.0</td>\n",
       "      <td>1</td>\n",
       "      <td>0</td>\n",
       "      <td>PC 17599</td>\n",
       "      <td>71.2833</td>\n",
       "      <td>C85</td>\n",
       "      <td>C</td>\n",
       "    </tr>\n",
       "    <tr>\n",
       "      <th>2</th>\n",
       "      <td>3</td>\n",
       "      <td>1</td>\n",
       "      <td>3</td>\n",
       "      <td>Heikkinen, Miss. Laina</td>\n",
       "      <td>female</td>\n",
       "      <td>26.0</td>\n",
       "      <td>0</td>\n",
       "      <td>0</td>\n",
       "      <td>STON/O2. 3101282</td>\n",
       "      <td>7.9250</td>\n",
       "      <td>NaN</td>\n",
       "      <td>S</td>\n",
       "    </tr>\n",
       "    <tr>\n",
       "      <th>3</th>\n",
       "      <td>4</td>\n",
       "      <td>1</td>\n",
       "      <td>1</td>\n",
       "      <td>Futrelle, Mrs. Jacques Heath (Lily May Peel)</td>\n",
       "      <td>female</td>\n",
       "      <td>35.0</td>\n",
       "      <td>1</td>\n",
       "      <td>0</td>\n",
       "      <td>113803</td>\n",
       "      <td>53.1000</td>\n",
       "      <td>C123</td>\n",
       "      <td>S</td>\n",
       "    </tr>\n",
       "    <tr>\n",
       "      <th>4</th>\n",
       "      <td>5</td>\n",
       "      <td>0</td>\n",
       "      <td>3</td>\n",
       "      <td>Allen, Mr. William Henry</td>\n",
       "      <td>male</td>\n",
       "      <td>35.0</td>\n",
       "      <td>0</td>\n",
       "      <td>0</td>\n",
       "      <td>373450</td>\n",
       "      <td>8.0500</td>\n",
       "      <td>NaN</td>\n",
       "      <td>S</td>\n",
       "    </tr>\n",
       "  </tbody>\n",
       "</table>\n",
       "</div>"
      ],
      "text/plain": [
       "   PassengerId  Survived  Pclass  \\\n",
       "0            1         0       3   \n",
       "1            2         1       1   \n",
       "2            3         1       3   \n",
       "3            4         1       1   \n",
       "4            5         0       3   \n",
       "\n",
       "                                                Name     Sex   Age  SibSp  \\\n",
       "0                            Braund, Mr. Owen Harris    male  22.0      1   \n",
       "1  Cumings, Mrs. John Bradley (Florence Briggs Th...  female  38.0      1   \n",
       "2                             Heikkinen, Miss. Laina  female  26.0      0   \n",
       "3       Futrelle, Mrs. Jacques Heath (Lily May Peel)  female  35.0      1   \n",
       "4                           Allen, Mr. William Henry    male  35.0      0   \n",
       "\n",
       "   Parch            Ticket     Fare Cabin Embarked  \n",
       "0      0         A/5 21171   7.2500   NaN        S  \n",
       "1      0          PC 17599  71.2833   C85        C  \n",
       "2      0  STON/O2. 3101282   7.9250   NaN        S  \n",
       "3      0            113803  53.1000  C123        S  \n",
       "4      0            373450   8.0500   NaN        S  "
      ]
     },
     "execution_count": 6,
     "metadata": {},
     "output_type": "execute_result"
    }
   ],
   "source": [
    "train_df = pd.read_csv('train.csv')\n",
    "test_df = pd.read_csv('test.csv')\n",
    "print(\"TRAIN DATAFRAME SHAPE =\",train_df.shape)\n",
    "train_df.head()"
   ]
  },
  {
   "cell_type": "markdown",
   "metadata": {},
   "source": [
    "Our dataframe has **891** observations and **12** features with headers as following:\n",
    "\n",
    "### Getting feature types\n",
    " - Numerical features are **{Age, SibSp, Parch, Fare}**, where:\n",
    "    - Discrete features are {SibSp, Parch}\n",
    "    - Continuous features are {Age, Fare}\n",
    " - Categorical features are **{Survived, Sex, Embarked}**\n",
    " - Ordinal features (__[wiki](https://en.wikipedia.org/wiki/Ordinal_data)__) are **{Pclass}**\n",
    " - Mixed features are **{Ticket, Cabin}**\n",
    "\n",
    "\n",
    "### Getting Dataframe general info"
   ]
  },
  {
   "cell_type": "code",
   "execution_count": 151,
   "metadata": {
    "scrolled": false
   },
   "outputs": [
    {
     "name": "stdout",
     "output_type": "stream",
     "text": [
      "<class 'pandas.core.frame.DataFrame'>\n",
      "RangeIndex: 891 entries, 0 to 890\n",
      "Data columns (total 12 columns):\n",
      "PassengerId    891 non-null int64\n",
      "Survived       891 non-null int64\n",
      "Pclass         891 non-null int64\n",
      "Name           891 non-null object\n",
      "Sex            891 non-null object\n",
      "Age            714 non-null float64\n",
      "SibSp          891 non-null int64\n",
      "Parch          891 non-null int64\n",
      "Ticket         891 non-null object\n",
      "Fare           891 non-null float64\n",
      "Cabin          204 non-null object\n",
      "Embarked       889 non-null object\n",
      "dtypes: float64(2), int64(5), object(5)\n",
      "memory usage: 66.2+ KB\n"
     ]
    },
    {
     "data": {
      "text/html": [
       "<div>\n",
       "<table border=\"1\" class=\"dataframe\">\n",
       "  <thead>\n",
       "    <tr style=\"text-align: right;\">\n",
       "      <th></th>\n",
       "      <th>PassengerId</th>\n",
       "      <th>Survived</th>\n",
       "      <th>Pclass</th>\n",
       "      <th>Age</th>\n",
       "      <th>SibSp</th>\n",
       "      <th>Parch</th>\n",
       "      <th>Fare</th>\n",
       "    </tr>\n",
       "  </thead>\n",
       "  <tbody>\n",
       "    <tr>\n",
       "      <th>count</th>\n",
       "      <td>891.000000</td>\n",
       "      <td>891.000000</td>\n",
       "      <td>891.000000</td>\n",
       "      <td>714.000000</td>\n",
       "      <td>891.000000</td>\n",
       "      <td>891.000000</td>\n",
       "      <td>891.000000</td>\n",
       "    </tr>\n",
       "    <tr>\n",
       "      <th>mean</th>\n",
       "      <td>446.000000</td>\n",
       "      <td>0.383838</td>\n",
       "      <td>2.308642</td>\n",
       "      <td>29.699118</td>\n",
       "      <td>0.523008</td>\n",
       "      <td>0.381594</td>\n",
       "      <td>32.204208</td>\n",
       "    </tr>\n",
       "    <tr>\n",
       "      <th>std</th>\n",
       "      <td>257.353842</td>\n",
       "      <td>0.486592</td>\n",
       "      <td>0.836071</td>\n",
       "      <td>14.526497</td>\n",
       "      <td>1.102743</td>\n",
       "      <td>0.806057</td>\n",
       "      <td>49.693429</td>\n",
       "    </tr>\n",
       "    <tr>\n",
       "      <th>min</th>\n",
       "      <td>1.000000</td>\n",
       "      <td>0.000000</td>\n",
       "      <td>1.000000</td>\n",
       "      <td>0.420000</td>\n",
       "      <td>0.000000</td>\n",
       "      <td>0.000000</td>\n",
       "      <td>0.000000</td>\n",
       "    </tr>\n",
       "    <tr>\n",
       "      <th>25%</th>\n",
       "      <td>223.500000</td>\n",
       "      <td>0.000000</td>\n",
       "      <td>2.000000</td>\n",
       "      <td>20.125000</td>\n",
       "      <td>0.000000</td>\n",
       "      <td>0.000000</td>\n",
       "      <td>7.910400</td>\n",
       "    </tr>\n",
       "    <tr>\n",
       "      <th>50%</th>\n",
       "      <td>446.000000</td>\n",
       "      <td>0.000000</td>\n",
       "      <td>3.000000</td>\n",
       "      <td>28.000000</td>\n",
       "      <td>0.000000</td>\n",
       "      <td>0.000000</td>\n",
       "      <td>14.454200</td>\n",
       "    </tr>\n",
       "    <tr>\n",
       "      <th>75%</th>\n",
       "      <td>668.500000</td>\n",
       "      <td>1.000000</td>\n",
       "      <td>3.000000</td>\n",
       "      <td>38.000000</td>\n",
       "      <td>1.000000</td>\n",
       "      <td>0.000000</td>\n",
       "      <td>31.000000</td>\n",
       "    </tr>\n",
       "    <tr>\n",
       "      <th>max</th>\n",
       "      <td>891.000000</td>\n",
       "      <td>1.000000</td>\n",
       "      <td>3.000000</td>\n",
       "      <td>80.000000</td>\n",
       "      <td>8.000000</td>\n",
       "      <td>6.000000</td>\n",
       "      <td>512.329200</td>\n",
       "    </tr>\n",
       "  </tbody>\n",
       "</table>\n",
       "</div>"
      ],
      "text/plain": [
       "       PassengerId    Survived      Pclass         Age       SibSp  \\\n",
       "count   891.000000  891.000000  891.000000  714.000000  891.000000   \n",
       "mean    446.000000    0.383838    2.308642   29.699118    0.523008   \n",
       "std     257.353842    0.486592    0.836071   14.526497    1.102743   \n",
       "min       1.000000    0.000000    1.000000    0.420000    0.000000   \n",
       "25%     223.500000    0.000000    2.000000   20.125000    0.000000   \n",
       "50%     446.000000    0.000000    3.000000   28.000000    0.000000   \n",
       "75%     668.500000    1.000000    3.000000   38.000000    1.000000   \n",
       "max     891.000000    1.000000    3.000000   80.000000    8.000000   \n",
       "\n",
       "            Parch        Fare  \n",
       "count  891.000000  891.000000  \n",
       "mean     0.381594   32.204208  \n",
       "std      0.806057   49.693429  \n",
       "min      0.000000    0.000000  \n",
       "25%      0.000000    7.910400  \n",
       "50%      0.000000   14.454200  \n",
       "75%      0.000000   31.000000  \n",
       "max      6.000000  512.329200  "
      ]
     },
     "execution_count": 151,
     "metadata": {},
     "output_type": "execute_result"
    }
   ],
   "source": [
    "train_df.info()\n",
    "train_df.describe()"
   ]
  },
  {
   "cell_type": "markdown",
   "metadata": {},
   "source": [
    "**Amount of NaNs:**"
   ]
  },
  {
   "cell_type": "code",
   "execution_count": 155,
   "metadata": {},
   "outputs": [
    {
     "data": {
      "text/plain": [
       "PassengerId      0\n",
       "Survived         0\n",
       "Pclass           0\n",
       "Name             0\n",
       "Sex              0\n",
       "Age            177\n",
       "SibSp            0\n",
       "Parch            0\n",
       "Ticket           0\n",
       "Fare             0\n",
       "Cabin          687\n",
       "Embarked         2\n",
       "dtype: int64"
      ]
     },
     "execution_count": 155,
     "metadata": {},
     "output_type": "execute_result"
    }
   ],
   "source": [
    "train_df.isnull().sum()"
   ]
  },
  {
   "cell_type": "markdown",
   "metadata": {},
   "source": [
    "As we can see:\n",
    "- We have **Missing Data**:\n",
    "    - NaN values in Age feature (about 20% are NaNs)\n",
    "    - NaN values in Cabin feature (about 75% are NaNs - a lot!!)\n",
    "    - NaN values in Embarked feature (3 values are NaNs)"
   ]
  },
  {
   "cell_type": "markdown",
   "metadata": {},
   "source": [
    "# 3. Initial feature analysis\n",
    "<div class=\"alert alert-block alert-info\">We have to analyze every feature in order ot understand: which features are the most significant ones (most correlating with response values)? Which features can we safely drop? Which can be modified and how? Which new features can we engineer from the existing ones?</div>\n",
    "\n",
    "<font color=purple size=5> PassengerID </font>\n",
    "- **Description**: passanger's unique ID number in this dataset.\n",
    "- **Analysis**: This feature completely corresponds with rowID so it's actually that. It clearly does not affect suvrival chances and is introduces solely for user's convinience, but sinse Pandas already have indexing mechanism for rows, this feature is completely redundant and can be dropped safely.<br>\n",
    "\n",
    "- **Conclusion:**\n",
    "Drop feature PassengerID.\n",
    "<br>\n",
    "***\n",
    "<br>\n",
    "\n",
    "<font color=purple size=5> Survived </font>\n",
    "- **Description**: survival of a passenger.\n",
    "- **Type**: categorical. Values are {0, 1}\n",
    "- **Analysis**: This feature will be our response vector *y*.\n",
    "- **Conclusion:** Feature Survived shall be response vector.\n",
    "<br>\n",
    "***\n",
    "<br>\n",
    "\n",
    "<font color=purple size=5> Pclass </font>\n",
    "- **Description**: passenger's ticket class.\n",
    "- **Type**: ordinal. Values are {0, 1, 2}\n",
    "- **Analysis**: Kaggle hints us that richer passengers were more likely to survive. Let's plot it and see:"
   ]
  },
  {
   "cell_type": "code",
   "execution_count": 3,
   "metadata": {},
   "outputs": [
    {
     "data": {
      "image/png": "[encoded data removed]",
      "text/plain": [
       "<matplotlib.figure.Figure at 0xabcb038c>"
      ]
     },
     "metadata": {},
     "output_type": "display_data"
    }
   ],
   "source": [
    "sns.barplot(x=\"Pclass\", y=\"Survived\", data=train_df)\n",
    "plt.show()"
   ]
  },
  {
   "cell_type": "code",
   "execution_count": 22,
   "metadata": {},
   "outputs": [
    {
     "name": "stdout",
     "output_type": "stream",
     "text": [
      "PCLASS NaN count: 0\n",
      "PCLASS unique values: 3\n"
     ]
    }
   ],
   "source": [
    "print(\"PCLASS NaN count:\", train_df['Pclass'].isnull().sum())\n",
    "print(\"PCLASS unique values:\", len(train_df['Pclass'].value_counts()))"
   ]
  },
  {
   "cell_type": "markdown",
   "metadata": {},
   "source": [
    "So, indeed, the tendency is clear: *the higher the class -> the greater chance of survival*.\n",
    "- **Conclusion:** Feature Pclass directly correlates with survival probability, it is an important feature.\n",
    "<br>\n",
    "***\n",
    "<br>\n",
    "\n",
    "<font color=purple size=5> Name </font>\n",
    "- **Description**: name of a passenger.\n",
    "- **Type**: alphanumeric.\n",
    "- **Analysis**: at this point it's not clear whether this feature will be useful to us. We can make several assumptions:\n",
    "    - It is expected to see a lot of different unique values in Name feature, thus categorizing it might be impossible or useless.\n",
    "    - Grouping people by last name may or may not provide us additional info about survival. The problem is people with the same last name do not neccessarily come from the same family.\n",
    "    - Exctracting honorific title (Mr., Mrs., etc.) may or may not provide us additional info about age or other features.\n",
    "    - Person's name by itself does not affect his/her survival probability (indeed, you won't survive a shipwreck just because your name is John)\n",
    "\n",
    "\n",
    "Checking assupmtions:"
   ]
  },
  {
   "cell_type": "code",
   "execution_count": 28,
   "metadata": {},
   "outputs": [
    {
     "name": "stdout",
     "output_type": "stream",
     "text": [
      "NAME NaN count: 0\n",
      "NAME unique values: 891\n"
     ]
    }
   ],
   "source": [
    "print(\"NAME NaN count:\", train_df['Name'].isnull().sum())\n",
    "print(\"NAME unique values:\", len(train_df['Name'].value_counts()))"
   ]
  },
  {
   "cell_type": "markdown",
   "metadata": {},
   "source": [
    "All Name values appear to be unique: amount of unique Name values is equal to a total amount of Name values (891=891). Trying to create a category for every single name is useless. We can try to categorize by last name and title, if that helps."
   ]
  },
  {
   "cell_type": "code",
   "execution_count": 71,
   "metadata": {},
   "outputs": [
    {
     "name": "stdout",
     "output_type": "stream",
     "text": [
      "Andersson    9\n",
      "Sage         7\n",
      "Johnson      6\n",
      "Carter       6\n",
      "Goodwin      6\n",
      "Name: Name, dtype: int64 \n",
      " ------------------------------\n",
      "Last name unique values: 667\n"
     ]
    }
   ],
   "source": [
    "last_names = train_df['Name'].apply(lambda name: name.split(',')[0])\n",
    "print(last_names.value_counts().head(),\"\\n\", \"-\"*30)\n",
    "print(\"Last name unique values:\", len(last_names.value_counts()))"
   ]
  },
  {
   "cell_type": "markdown",
   "metadata": {},
   "source": [
    "So some people were travelling with their families, also there can be people who are not realted to each other and they just happen to have the same last name. To find that out we would need to check how many family members were travelling with them, but still this would not give us much info: for example there were 9 passengers with familiy name Andersson, and that could be 2-3 families, or 1 large family, or whatnot. For now it's hard to use this information.\n",
    "\n",
    "We could try to use \"grouping by last name\" to fill in some missing Cabin numbers, assuming that all passengers with the same name belong to the same family and are situated in the same Cabin, but that is not the case: not only different people can have the same family name, but even members of the same family could reside in different Cabins, or even have different last names (for example, a wife retains her maiden last name). So using last names to try and fill some missing data in Cabin feature does not seem very reliable.\n",
    "There are 667 \"family groups\", most of them are include 1-2 people. We could create several categories for the biggest families and \"rest\" for the others?"
   ]
  },
  {
   "cell_type": "code",
   "execution_count": 135,
   "metadata": {
    "scrolled": true
   },
   "outputs": [
    {
     "data": {
      "image/png": "[encoded data removed]",
      "text/plain": [
       "<matplotlib.figure.Figure at 0xa9b38fec>"
      ]
     },
     "metadata": {},
     "output_type": "display_data"
    }
   ],
   "source": [
    "import operator\n",
    "\n",
    "last_names = pd.DataFrame(last_names)\n",
    "name_counts = dict(last_names['Name'].value_counts())\n",
    "name_counts = dict(sorted(name_counts.items(), key=operator.itemgetter(1),reverse=True))\n",
    "\n",
    "substitution_dict = dict()\n",
    "new_index = 1\n",
    "for k, v in name_counts.items():\n",
    "    if v >= 4:\n",
    "        substitution_dict.update({k: new_index})\n",
    "        new_index += 1\n",
    "    else:\n",
    "        substitution_dict.update({k: 0})\n",
    "\n",
    "family_groups = last_names.replace({'Name': substitution_dict})\n",
    "family_groups['Survived'] = train_df['Survived']\n",
    "sns.barplot(x=family_groups['Name'], y=train_df['Survived'])\n",
    "plt.show()"
   ]
  },
  {
   "cell_type": "markdown",
   "metadata": {},
   "source": [
    "We can see some funny results, for example that family labeled as *21* was saved in its entirety. Its last name is:"
   ]
  },
  {
   "cell_type": "code",
   "execution_count": 130,
   "metadata": {},
   "outputs": [
    {
     "name": "stdout",
     "output_type": "stream",
     "text": [
      "['Baclini']\n"
     ]
    }
   ],
   "source": [
    "print([k for k, v in substitution_dict.items() if v == 21])"
   ]
  },
  {
   "cell_type": "markdown",
   "metadata": {},
   "source": [
    "But aside from Baclini family being lucky we cannot say all too much for now?\n",
    "\n",
    "Next assumption we may check is: may the honorific title help us with age imputation or with building a model in general?"
   ]
  },
  {
   "cell_type": "code",
   "execution_count": 240,
   "metadata": {
    "scrolled": false
   },
   "outputs": [
    {
     "name": "stdout",
     "output_type": "stream",
     "text": [
      "    Title  Survived\n",
      "4     Mrs  0.795276\n",
      "2    Miss  0.704301\n",
      "1  Master  0.575000\n",
      "0      Dr  0.428571\n",
      "3      Mr  0.160000\n",
      "5     Rev  0.000000\n"
     ]
    },
    {
     "data": {
      "text/html": [
       "<div>\n",
       "<table border=\"1\" class=\"dataframe\">\n",
       "  <thead>\n",
       "    <tr style=\"text-align: right;\">\n",
       "      <th></th>\n",
       "      <th>Title</th>\n",
       "    </tr>\n",
       "  </thead>\n",
       "  <tbody>\n",
       "    <tr>\n",
       "      <th>0</th>\n",
       "      <td>Mr</td>\n",
       "    </tr>\n",
       "  </tbody>\n",
       "</table>\n",
       "</div>"
      ],
      "text/plain": [
       "  Title\n",
       "0    Mr"
      ]
     },
     "execution_count": 240,
     "metadata": {},
     "output_type": "execute_result"
    }
   ],
   "source": [
    "# Code for making a new feature - Title (if it will be needed at all)\n",
    "\n",
    "title_feature = pd.DataFrame()\n",
    "title_feature['Title'] = train_df['Name']\n",
    "for name_string in train_df['Name']:\n",
    "    title_feature['Title']=train_df.Name.str.extract('([A-Za-z]+)\\.', expand=True)\n",
    "\n",
    "mapping = {'Mlle': 'Miss', 'Major': 'Mr', 'Col': 'Mr', 'Sir': 'Mr', 'Don': 'Mr', 'Mme': 'Miss',\n",
    "          'Jonkheer': 'Mr', 'Lady': 'Mrs', 'Capt': 'Mr', 'Countess': 'Mrs', 'Ms': 'Miss'}\n",
    "title_feature.replace({'Title': mapping}, inplace=True)\n",
    "title_feature['Title'].value_counts()\n",
    "\n",
    "title_feature['Survived'] = train_df['Survived']\n",
    "#sns.boxplot(x='Title', y='Survived', data=title_feature)\n",
    "print(title_feature[['Title', 'Survived']].groupby(['Title'], as_index=False).mean().sort_values(by='Survived', \n",
    "                                                                                                 ascending=False))\n",
    "title_feature.drop('Survived', axis=1).head(1)"
   ]
  },
  {
   "cell_type": "markdown",
   "metadata": {},
   "source": [
    "All the reverends did die, and most of women survived. This may serve as a new feature but for now it seems a bit redundant because it basically reflects Sex feature (mainly) and Age / SibSp features (a bit less directly). "
   ]
  },
  {
   "cell_type": "code",
   "execution_count": 242,
   "metadata": {},
   "outputs": [
    {
     "data": {
      "text/plain": [
       "Title\n",
       "Dr        42.000000\n",
       "Master     4.574167\n",
       "Miss      21.860000\n",
       "Mr        32.740148\n",
       "Mrs       35.981818\n",
       "Rev       43.166667\n",
       "Name: Age, dtype: float64"
      ]
     },
     "execution_count": 242,
     "metadata": {},
     "output_type": "execute_result"
    }
   ],
   "source": [
    "title_feature['Age'] = train_df['Age']\n",
    "title_feature.groupby('Title')['Age'].mean()"
   ]
  },
  {
   "cell_type": "markdown",
   "metadata": {},
   "source": [
    "- **Conclusion**: --to be decided yet--\n",
    "<br>\n",
    "***\n",
    "<br>\n",
    "\n",
    "<font color=purple size=5> Sex </font>\n",
    "- **Description**: sex of a passenger.\n",
    "- **Type**: categorical. Values are {male, female}\n",
    "- **Analysis**: Kaggle hints us that females were more likely to survive. Let's plot it and see:"
   ]
  },
  {
   "cell_type": "code",
   "execution_count": 8,
   "metadata": {},
   "outputs": [
    {
     "data": {
      "image/png": "[encoded data removed]",
      "text/plain": [
       "<matplotlib.figure.Figure at 0xaa266a2c>"
      ]
     },
     "metadata": {},
     "output_type": "display_data"
    }
   ],
   "source": [
    "sns.barplot(x='Sex', y='Survived', data=train_df)\n",
    "plt.show()"
   ]
  },
  {
   "cell_type": "code",
   "execution_count": 25,
   "metadata": {},
   "outputs": [
    {
     "name": "stdout",
     "output_type": "stream",
     "text": [
      "SEX NaN count: 0\n",
      "SEX unique values: 2\n"
     ]
    }
   ],
   "source": [
    "print(\"SEX NaN count:\", train_df['Sex'].isnull().sum())\n",
    "print(\"SEX unique values:\", len(train_df['Sex'].value_counts()))"
   ]
  },
  {
   "cell_type": "markdown",
   "metadata": {},
   "source": [
    "No NaNs, 2 unique values.\n",
    "\n",
    "So, indeed, the tendency is clear: *passenger is female -> greater chance of survival*.\n",
    "- **Conclusion:** Feature Sex directly correlates with survival probability, it is an important feature.\n",
    "<br>\n",
    "***\n",
    "<br>\n",
    "\n",
    "<font color=purple size=5> Age </font>\n",
    "- **Description**: age of a passenger.\n",
    "- **Type**: numerical - continuous. Values lie in [0..] range.\n",
    "- **Analysis**: there are 2 immediate problems with this feature.\n",
    "    - Numerical feature mixed with categorical ones. Solution: we can make several age categories, bins.\n",
    "    - Feature Age contains NaN values. Solution: we can use imputation.\n",
    "We could assume that children were rescued first and thus their rate of survival was higher."
   ]
  },
  {
   "cell_type": "code",
   "execution_count": 20,
   "metadata": {},
   "outputs": [
    {
     "name": "stdout",
     "output_type": "stream",
     "text": [
      "AGE NaN count: 177\n",
      "AGE unique values: 88\n"
     ]
    }
   ],
   "source": [
    "print(\"AGE NaN count:\", train_df['Age'].isnull().sum())\n",
    "print(\"AGE unique values:\", len(train_df['Age'].value_counts()))"
   ]
  },
  {
   "cell_type": "markdown",
   "metadata": {},
   "source": [
    "First of all it is necessary to fill NaN values. We can use means of various Titles to impute age or we can try various other methods like KNN imputation or something similar."
   ]
  },
  {
   "cell_type": "code",
   "execution_count": 26,
   "metadata": {
    "scrolled": true
   },
   "outputs": [
    {
     "ename": "ModuleNotFoundError",
     "evalue": "No module named 'fancyimpute'",
     "output_type": "error",
     "traceback": [
      "\u001b[0;31m---------------------------------------------------------------------------\u001b[0m",
      "\u001b[0;31mModuleNotFoundError\u001b[0m                       Traceback (most recent call last)",
      "\u001b[0;32m<ipython-input-26-809ce37da21f>\u001b[0m in \u001b[0;36m<module>\u001b[0;34m()\u001b[0m\n\u001b[0;32m----> 1\u001b[0;31m \u001b[0;32mfrom\u001b[0m \u001b[0mfancyimpute\u001b[0m \u001b[0;32mimport\u001b[0m \u001b[0mKNN\u001b[0m\u001b[0;34m\u001b[0m\u001b[0m\n\u001b[0m",
      "\u001b[0;31mModuleNotFoundError\u001b[0m: No module named 'fancyimpute'"
     ]
    }
   ],
   "source": [
    "from fancyimpute import KNN"
   ]
  },
  {
   "cell_type": "markdown",
   "metadata": {},
   "source": [
    "## 2. Initial feature analysis\n",
    "What features can be removed without affecting predictions too much (or at all)?\n",
    "- **PassengerID**: that's basically rowID, nothing more. Seems OK to drop it.\n",
    "- **Survived**: that's vector with 2 response classes, 0 and 1. Will go to *y*.\n",
    "- **Pclass**: this seems meaningful (rich guys are more likely to survive?)\n",
    "- **Name**: this feature does not look very useful. Every passenger has a different Name value (repeated Names are extremely rare), and it seems very unlikely for the name to influence survival. For now we will drop it.\n",
    "- **Sex**: this seems meaningful (women are more likely to survive?).\n",
    "- **Age**: this seems meaningful (children are more likely to survive?)\n",
    "- **SibSp**: unknown for now\n",
    "- **Parch**: unknown for now\n",
    "- **Ticket**: unknown for now\n",
    "- **Fare**: useful? (rich guys are more likely to survive?)\n",
    "- **Cabin**: cabin may be a meaningful feature, for example upper cabins might be closer to life boats and thus passengers in those cabins may might have a greater chance of survival, but for now it's not clear what to do with it, as it has too much NaN values:"
   ]
  },
  {
   "cell_type": "code",
   "execution_count": 4,
   "metadata": {},
   "outputs": [
    {
     "data": {
      "text/plain": [
       "687"
      ]
     },
     "execution_count": 4,
     "metadata": {},
     "output_type": "execute_result"
    }
   ],
   "source": [
    "train_df['Cabin'].isnull().sum()"
   ]
  },
  {
   "cell_type": "markdown",
   "metadata": {},
   "source": [
    "- **Cabin**: so Cabin feature has 687 NaNs out of 891 values in total, which means that NaNs are dominating. Question here: what should we do? Should we drop Cabin feature altogether, or should we substitute NaNs with some random values? That however is difficult as missing data in Cabins seems to be of MCAR type - Missing Completely At Random (indeed, we do not have a straightforward cabin numbers list like \"1, 2, 3, 4, x, 6, 7\" from which we could deduce that x=5; instead Cabin numbers are listed randomly so it would be difficult to predict the expected value in NaN cells)\n",
    "- **Embarked**: unknown for now. Substitute string values with some labels, say C=0, Q=1, S=2\n",
    "\n",
    "So for now let's drop PassengerID and Name features and change string values to labels and see what we've got:"
   ]
  },
  {
   "cell_type": "code",
   "execution_count": 6,
   "metadata": {},
   "outputs": [
    {
     "data": {
      "text/html": [
       "<div>\n",
       "<style>\n",
       "    .dataframe thead tr:only-child th {\n",
       "        text-align: right;\n",
       "    }\n",
       "\n",
       "    .dataframe thead th {\n",
       "        text-align: left;\n",
       "    }\n",
       "\n",
       "    .dataframe tbody tr th {\n",
       "        vertical-align: top;\n",
       "    }\n",
       "</style>\n",
       "<table border=\"1\" class=\"dataframe\">\n",
       "  <thead>\n",
       "    <tr style=\"text-align: right;\">\n",
       "      <th></th>\n",
       "      <th>Survived</th>\n",
       "      <th>Pclass</th>\n",
       "      <th>Sex</th>\n",
       "      <th>Age</th>\n",
       "      <th>SibSp</th>\n",
       "      <th>Parch</th>\n",
       "      <th>Ticket</th>\n",
       "      <th>Fare</th>\n",
       "      <th>Cabin</th>\n",
       "      <th>Embarked</th>\n",
       "    </tr>\n",
       "  </thead>\n",
       "  <tbody>\n",
       "    <tr>\n",
       "      <th>0</th>\n",
       "      <td>0</td>\n",
       "      <td>3</td>\n",
       "      <td>0</td>\n",
       "      <td>22.0</td>\n",
       "      <td>1</td>\n",
       "      <td>0</td>\n",
       "      <td>A/5 21171</td>\n",
       "      <td>7.2500</td>\n",
       "      <td>NaN</td>\n",
       "      <td>2.0</td>\n",
       "    </tr>\n",
       "    <tr>\n",
       "      <th>1</th>\n",
       "      <td>1</td>\n",
       "      <td>1</td>\n",
       "      <td>1</td>\n",
       "      <td>38.0</td>\n",
       "      <td>1</td>\n",
       "      <td>0</td>\n",
       "      <td>PC 17599</td>\n",
       "      <td>71.2833</td>\n",
       "      <td>C85</td>\n",
       "      <td>0.0</td>\n",
       "    </tr>\n",
       "    <tr>\n",
       "      <th>2</th>\n",
       "      <td>1</td>\n",
       "      <td>3</td>\n",
       "      <td>1</td>\n",
       "      <td>26.0</td>\n",
       "      <td>0</td>\n",
       "      <td>0</td>\n",
       "      <td>STON/O2. 3101282</td>\n",
       "      <td>7.9250</td>\n",
       "      <td>NaN</td>\n",
       "      <td>2.0</td>\n",
       "    </tr>\n",
       "    <tr>\n",
       "      <th>3</th>\n",
       "      <td>1</td>\n",
       "      <td>1</td>\n",
       "      <td>1</td>\n",
       "      <td>35.0</td>\n",
       "      <td>1</td>\n",
       "      <td>0</td>\n",
       "      <td>113803</td>\n",
       "      <td>53.1000</td>\n",
       "      <td>C123</td>\n",
       "      <td>2.0</td>\n",
       "    </tr>\n",
       "    <tr>\n",
       "      <th>4</th>\n",
       "      <td>0</td>\n",
       "      <td>3</td>\n",
       "      <td>0</td>\n",
       "      <td>35.0</td>\n",
       "      <td>0</td>\n",
       "      <td>0</td>\n",
       "      <td>373450</td>\n",
       "      <td>8.0500</td>\n",
       "      <td>NaN</td>\n",
       "      <td>2.0</td>\n",
       "    </tr>\n",
       "  </tbody>\n",
       "</table>\n",
       "</div>"
      ],
      "text/plain": [
       "   Survived  Pclass  Sex   Age  SibSp  Parch            Ticket     Fare Cabin  \\\n",
       "0         0       3    0  22.0      1      0         A/5 21171   7.2500   NaN   \n",
       "1         1       1    1  38.0      1      0          PC 17599  71.2833   C85   \n",
       "2         1       3    1  26.0      0      0  STON/O2. 3101282   7.9250   NaN   \n",
       "3         1       1    1  35.0      1      0            113803  53.1000  C123   \n",
       "4         0       3    0  35.0      0      0            373450   8.0500   NaN   \n",
       "\n",
       "   Embarked  \n",
       "0       2.0  \n",
       "1       0.0  \n",
       "2       2.0  \n",
       "3       2.0  \n",
       "4       2.0  "
      ]
     },
     "execution_count": 6,
     "metadata": {},
     "output_type": "execute_result"
    }
   ],
   "source": [
    "train_df.drop(['Name', 'PassengerId'], 1, inplace=True)\n",
    "test_df.drop(['Name','PassengerId'], 1, inplace=True)\n",
    "mapping = {'male': 0, 'female': 1, 'C': 0, 'Q': 1, 'S': 2}\n",
    "train_df = train_df.replace({'Sex': mapping, 'Embarked': mapping})\n",
    "test_df = test_df.replace({'Sex': mapping, 'Embarked': mapping})\n",
    "train_df.head()"
   ]
  },
  {
   "cell_type": "markdown",
   "metadata": {},
   "source": [
    "Again as expected: *females were more likely to survive*.\n",
    "\n",
    "### Age\n",
    "Let's check the Age now:"
   ]
  },
  {
   "cell_type": "code",
   "execution_count": 9,
   "metadata": {},
   "outputs": [
    {
     "data": {
      "image/png": "[encoded data removed]",
      "text/plain": [
       "<matplotlib.figure.Figure at 0x7fd8460f8198>"
      ]
     },
     "metadata": {},
     "output_type": "display_data"
    }
   ],
   "source": [
    "sns.pairplot(train_df, x_vars=['Age'], y_vars='Survived', size=7, aspect=0.7, kind='reg')\n",
    "plt.show()"
   ]
  },
  {
   "cell_type": "markdown",
   "metadata": {},
   "source": [
    "It seems like greater age provided less chance of survival? - but the variance here is not that small so it may be not that reliable, I don't know yet.\n",
    "\n",
    "### SibSp\n",
    "What about siblings and spouces?"
   ]
  },
  {
   "cell_type": "code",
   "execution_count": 10,
   "metadata": {},
   "outputs": [
    {
     "data": {
      "image/png": "[encoded data removed]",
      "text/plain": [
       "<matplotlib.figure.Figure at 0x7fd845fffc88>"
      ]
     },
     "metadata": {},
     "output_type": "display_data"
    }
   ],
   "source": [
    "sns.barplot(x=\"SibSp\", y=\"Survived\", data=train_df)\n",
    "plt.show()"
   ]
  },
  {
   "cell_type": "code",
   "execution_count": 11,
   "metadata": {},
   "outputs": [
    {
     "data": {
      "image/png": "[encoded data removed]",
      "text/plain": [
       "<matplotlib.figure.Figure at 0x7fd845fe7320>"
      ]
     },
     "metadata": {},
     "output_type": "display_data"
    }
   ],
   "source": [
    "sns.countplot(x=\"SibSp\", data=train_df, palette=\"Greens_d\")\n",
    "plt.show()"
   ]
  },
  {
   "cell_type": "markdown",
   "metadata": {},
   "source": [
    "That does not tell us all that much.\n",
    "\n",
    "### Parch"
   ]
  },
  {
   "cell_type": "code",
   "execution_count": 13,
   "metadata": {},
   "outputs": [
    {
     "data": {
      "image/png": "[encoded data removed]",
      "text/plain": [
       "<matplotlib.figure.Figure at 0x7fd845b774a8>"
      ]
     },
     "metadata": {},
     "output_type": "display_data"
    }
   ],
   "source": [
    "sns.barplot(x=\"Parch\", y=\"Survived\", data=train_df)\n",
    "plt.show()"
   ]
  },
  {
   "cell_type": "markdown",
   "metadata": {},
   "source": [
    "Again, I don't really know how to interpret that yet.. Does not seem to be a clear tendency to survival (or dying) here.\n",
    "\n",
    "### Ticket\n",
    "That thing is kind of hard to plot, because there are some 700-800+ distinct values. Should I go for pairplot?\n",
    "\n",
    "**Maybe here we need to do some kind of feature engineering** to break tickets into several various classes? Actually we see that most of the tickets seem to have a 1, 2 or 3 in the beggining of their numerical part. Could that mean Pclass? Let's see:"
   ]
  },
  {
   "cell_type": "code",
   "execution_count": 14,
   "metadata": {},
   "outputs": [
    {
     "name": "stdout",
     "output_type": "stream",
     "text": [
      "   Pclass            Ticket\n",
      "0       3         A/5 21171\n",
      "1       1          PC 17599\n",
      "2       3  STON/O2. 3101282\n",
      "3       1            113803\n",
      "4       3            373450\n"
     ]
    },
    {
     "data": {
      "text/html": [
       "<div>\n",
       "<style>\n",
       "    .dataframe thead tr:only-child th {\n",
       "        text-align: right;\n",
       "    }\n",
       "\n",
       "    .dataframe thead th {\n",
       "        text-align: left;\n",
       "    }\n",
       "\n",
       "    .dataframe tbody tr th {\n",
       "        vertical-align: top;\n",
       "    }\n",
       "</style>\n",
       "<table border=\"1\" class=\"dataframe\">\n",
       "  <thead>\n",
       "    <tr style=\"text-align: right;\">\n",
       "      <th></th>\n",
       "      <th>Pclass</th>\n",
       "      <th>Ticket</th>\n",
       "    </tr>\n",
       "  </thead>\n",
       "  <tbody>\n",
       "    <tr>\n",
       "      <th>886</th>\n",
       "      <td>2</td>\n",
       "      <td>211536</td>\n",
       "    </tr>\n",
       "    <tr>\n",
       "      <th>887</th>\n",
       "      <td>1</td>\n",
       "      <td>112053</td>\n",
       "    </tr>\n",
       "    <tr>\n",
       "      <th>888</th>\n",
       "      <td>3</td>\n",
       "      <td>W./C. 6607</td>\n",
       "    </tr>\n",
       "    <tr>\n",
       "      <th>889</th>\n",
       "      <td>1</td>\n",
       "      <td>111369</td>\n",
       "    </tr>\n",
       "    <tr>\n",
       "      <th>890</th>\n",
       "      <td>3</td>\n",
       "      <td>370376</td>\n",
       "    </tr>\n",
       "  </tbody>\n",
       "</table>\n",
       "</div>"
      ],
      "text/plain": [
       "     Pclass      Ticket\n",
       "886       2      211536\n",
       "887       1      112053\n",
       "888       3  W./C. 6607\n",
       "889       1      111369\n",
       "890       3      370376"
      ]
     },
     "execution_count": 14,
     "metadata": {},
     "output_type": "execute_result"
    }
   ],
   "source": [
    "print(train_df[['Pclass', 'Ticket']].head())\n",
    "train_df[['Pclass', 'Ticket']].tail()\n",
    "# To see the whole data:\n",
    "# train_df[['Pclass', 'Ticket']]"
   ]
  },
  {
   "cell_type": "markdown",
   "metadata": {},
   "source": [
    "It seems that in most of the cases this is right, the first digit mainly corresponds with the Pclass with some exceptions. For now that's all I can really say, and for now it seems like I will have to drop this feature (?) until I am able to engineer it somehow into something more meaningful."
   ]
  },
  {
   "cell_type": "markdown",
   "metadata": {},
   "source": [
    "### Fare\n",
    "Fare seems to be a feature best plotted with pairplot:"
   ]
  },
  {
   "cell_type": "code",
   "execution_count": 15,
   "metadata": {},
   "outputs": [
    {
     "data": {
      "image/png": "[encoded data removed]",
      "text/plain": [
       "<matplotlib.figure.Figure at 0x7fd8460ff9b0>"
      ]
     },
     "metadata": {},
     "output_type": "display_data"
    }
   ],
   "source": [
    "sns.pairplot(train_df, x_vars=['Fare'], y_vars='Survived', size=7, aspect=0.7, kind='reg')\n",
    "plt.show()"
   ]
  },
  {
   "cell_type": "markdown",
   "metadata": {},
   "source": [
    "So apart from high variance, it seems that the greater the Fare was, the more likely the passanger was to survive. \n",
    "\n",
    "Might it be heplful if we invert Survived and Fare axis? Let's use barplot now as we have only 2 values of X, since X now is Survived and not Fare:"
   ]
  },
  {
   "cell_type": "code",
   "execution_count": 16,
   "metadata": {},
   "outputs": [
    {
     "data": {
      "image/png": "[encoded data removed]",
      "text/plain": [
       "<matplotlib.figure.Figure at 0x7fd846078cc0>"
      ]
     },
     "metadata": {},
     "output_type": "display_data"
    }
   ],
   "source": [
    "#sns.boxplot(train_df, x_vars=['Survived'], y_vars='Fare', size=7, aspect=0.7, kind='reg')\n",
    "sns.barplot(x=\"Survived\", y=\"Fare\", data=train_df)\n",
    "plt.show()"
   ]
  },
  {
   "cell_type": "markdown",
   "metadata": {},
   "source": [
    "So the bulk of survivors paid a higher fare on average, eh? I'll assume it's correct for now."
   ]
  },
  {
   "cell_type": "markdown",
   "metadata": {},
   "source": [
    "### Cabin\n",
    "Let's see if there were people in the same cabin:"
   ]
  },
  {
   "cell_type": "code",
   "execution_count": 17,
   "metadata": {},
   "outputs": [
    {
     "data": {
      "text/plain": [
       "G6             4\n",
       "C23 C25 C27    4\n",
       "B96 B98        4\n",
       "F2             3\n",
       "E101           3\n",
       "Name: Cabin, dtype: int64"
      ]
     },
     "execution_count": 17,
     "metadata": {},
     "output_type": "execute_result"
    }
   ],
   "source": [
    "train_df['Cabin'].value_counts().head()"
   ]
  },
  {
   "cell_type": "markdown",
   "metadata": {},
   "source": [
    "It seems that yes, there were cabins with several passengers, which may affect the probability of those passengers dying or to surviving together. So this means like a meaningful feature indeed, but what do I do with NaNs?...\n",
    "\n",
    "### Embarked\n",
    "What about port of embarkation? It's pure luck I suppose?"
   ]
  },
  {
   "cell_type": "code",
   "execution_count": 20,
   "metadata": {},
   "outputs": [
    {
     "data": {
      "image/png": "[encoded data removed]",
      "text/plain": [
       "<matplotlib.figure.Figure at 0x7fd846063e10>"
      ]
     },
     "metadata": {},
     "output_type": "display_data"
    }
   ],
   "source": [
    "sns.barplot(x=\"Embarked\", y=\"Survived\", data=train_df)\n",
    "plt.show()"
   ]
  },
  {
   "cell_type": "markdown",
   "metadata": {},
   "source": [
    "Seems like guys from C were the luckiest, 2nd lucky are people from Q, and lastly from S. Maybe S-guys were too poor, and C's were rich? Let's plot Embarked vs Fare"
   ]
  },
  {
   "cell_type": "code",
   "execution_count": 24,
   "metadata": {},
   "outputs": [
    {
     "data": {
      "image/png": "[encoded data removed]",
      "text/plain": [
       "<matplotlib.figure.Figure at 0x7fd845a96e80>"
      ]
     },
     "metadata": {},
     "output_type": "display_data"
    }
   ],
   "source": [
    "sns.barplot(x=\"Embarked\", y=\"Pclass\", data=train_df)\n",
    "plt.show()"
   ]
  },
  {
   "cell_type": "markdown",
   "metadata": {},
   "source": [
    "That doesn't really fit to Pclass plot as passengers from Q were the poorest in terms of Pclass yet they survived better then people from S. So it might be seem that Embarkation feature needs to be taken into account as well."
   ]
  },
  {
   "cell_type": "markdown",
   "metadata": {},
   "source": [
    "### Ticket\n",
    "Like with Cabin, there seem to be several people on some Tickets:"
   ]
  },
  {
   "cell_type": "code",
   "execution_count": 5,
   "metadata": {},
   "outputs": [
    {
     "data": {
      "text/plain": [
       "347082      7\n",
       "1601        7\n",
       "CA. 2343    7\n",
       "347088      6\n",
       "3101295     6\n",
       "Name: Ticket, dtype: int64"
      ]
     },
     "execution_count": 5,
     "metadata": {},
     "output_type": "execute_result"
    }
   ],
   "source": [
    "train_df['Ticket'].value_counts().head()"
   ]
  },
  {
   "cell_type": "markdown",
   "metadata": {},
   "source": [
    "Might this affect chances of those passengeers to survive, or not?\n",
    "\n",
    "Anyway, if we want to use Ticket and Cabin features, we have to create \"labels\" for each Ticket type and Cabin type, and do something with those overwhelming NaNs in Cabin."
   ]
  },
  {
   "cell_type": "markdown",
   "metadata": {},
   "source": [
    "### Additional visualization\n",
    "Let's try to see how various features might be related to passenger's survival."
   ]
  },
  {
   "cell_type": "code",
   "execution_count": 37,
   "metadata": {
    "collapsed": true
   },
   "outputs": [
    {
     "data": {
      "image/png": "[encoded data removed]",
      "text/plain": [
       "<matplotlib.figure.Figure at 0xaa13590c>"
      ]
     },
     "metadata": {},
     "output_type": "display_data"
    }
   ],
   "source": [
    "sns.pairplot(train_df, x_vars=['Pclass', 'Sex', 'Age'], y_vars='Survived', size=7, aspect=0.7, kind='reg')\n",
    "plt.show()"
   ]
  },
  {
   "cell_type": "code",
   "execution_count": 7,
   "metadata": {
    "collapsed": true
   },
   "outputs": [
    {
     "data": {
      "image/png": "[encoded data removed]",
      "text/plain": [
       "<matplotlib.figure.Figure at 0xb5b1080c>"
      ]
     },
     "metadata": {},
     "output_type": "display_data"
    }
   ],
   "source": [
    "sns.pairplot(train_df, x_vars=['SibSp', 'Parch', 'Fare'], y_vars='Survived', size=7, aspect=0.7, kind='reg')\n",
    "plt.show()"
   ]
  },
  {
   "cell_type": "code",
   "execution_count": 8,
   "metadata": {
    "collapsed": true
   },
   "outputs": [
    {
     "data": {
      "image/png": "[encoded data removed]",
      "text/plain": [
       "<matplotlib.figure.Figure at 0xa9bf790c>"
      ]
     },
     "metadata": {},
     "output_type": "display_data"
    }
   ],
   "source": [
    "sns.pairplot(train_df, x_vars=['Embarked'], y_vars='Survived', size=7, aspect=0.7, kind='reg')\n",
    "plt.show()"
   ]
  }
 ],
 "metadata": {
  "kernelspec": {
   "display_name": "Python 3",
   "language": "python",
   "name": "python3"
  },
  "language_info": {
   "codemirror_mode": {
    "name": "ipython",
    "version": 3
   },
   "file_extension": ".py",
   "mimetype": "text/x-python",
   "name": "python",
   "nbconvert_exporter": "python",
   "pygments_lexer": "ipython3",
   "version": "3.6.3"
  }
 },
 "nbformat": 4,
 "nbformat_minor": 1
}
